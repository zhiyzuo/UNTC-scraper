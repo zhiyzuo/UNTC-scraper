{
 "cells": [
  {
   "cell_type": "code",
   "execution_count": 1,
   "metadata": {
    "ExecuteTime": {
     "end_time": "2017-12-24T00:26:10.335915Z",
     "start_time": "2017-12-24T00:26:10.332218Z"
    }
   },
   "outputs": [],
   "source": [
    "import time"
   ]
  },
  {
   "cell_type": "code",
   "execution_count": 33,
   "metadata": {
    "ExecuteTime": {
     "end_time": "2017-11-17T09:00:17.401523Z",
     "start_time": "2017-11-17T09:00:17.397648Z"
    }
   },
   "outputs": [],
   "source": [
    "import numpy as np\n",
    "import pandas as pd\n",
    "from bs4 import BeautifulSoup as Soup"
   ]
  },
  {
   "cell_type": "code",
   "execution_count": 34,
   "metadata": {
    "ExecuteTime": {
     "end_time": "2017-11-17T09:00:17.601202Z",
     "start_time": "2017-11-17T09:00:17.593667Z"
    }
   },
   "outputs": [],
   "source": [
    "from selenium import webdriver\n",
    "from selenium.webdriver.common.by import By\n",
    "from selenium.webdriver.common.keys import Keys\n",
    "from selenium.webdriver.support.ui import Select\n",
    "from selenium.webdriver.support.ui import WebDriverWait\n",
    "from selenium.webdriver.support import expected_conditions as EC"
   ]
  },
  {
   "cell_type": "code",
   "execution_count": 35,
   "metadata": {
    "ExecuteTime": {
     "end_time": "2017-11-17T09:00:17.904715Z",
     "start_time": "2017-11-17T09:00:17.897951Z"
    }
   },
   "outputs": [],
   "source": [
    "def parse_page(tr_list):\n",
    "    tmp = list()\n",
    "    for tr in tr_list:\n",
    "        tmp.append(list())\n",
    "        for i, td in enumerate(tr.find_elements_by_tag_name('td')):\n",
    "            if i == 0:\n",
    "                tmp[-1].append(td.find_element_by_tag_name('a').get_attribute('href'))\n",
    "            tmp[-1].append(td.text.strip())\n",
    "    return pd.DataFrame(tmp, columns=column_names)"
   ]
  },
  {
   "cell_type": "markdown",
   "metadata": {},
   "source": [
    "---"
   ]
  },
  {
   "cell_type": "markdown",
   "metadata": {},
   "source": [
    "#### The only input"
   ]
  },
  {
   "cell_type": "code",
   "execution_count": 36,
   "metadata": {
    "ExecuteTime": {
     "end_time": "2017-11-17T09:00:21.299609Z",
     "start_time": "2017-11-17T09:00:21.294918Z"
    }
   },
   "outputs": [],
   "source": [
    "from_date = '01/01/1945'\n",
    "to_date = '01/01/1949'"
   ]
  },
  {
   "cell_type": "markdown",
   "metadata": {},
   "source": [
    "---"
   ]
  },
  {
   "cell_type": "markdown",
   "metadata": {},
   "source": [
    "#### Set criteria"
   ]
  },
  {
   "cell_type": "markdown",
   "metadata": {},
   "source": [
    "Some constant var"
   ]
  },
  {
   "cell_type": "code",
   "execution_count": 51,
   "metadata": {
    "ExecuteTime": {
     "end_time": "2017-11-17T09:05:29.121179Z",
     "start_time": "2017-11-17T09:05:29.116197Z"
    }
   },
   "outputs": [],
   "source": [
    "base_url = 'https://treaties.un.org'\n",
    "column_names = ['href', 'title', 'reg_num', 'reg_date', 'type', 'con_date', 'vol']\n",
    "tid = 'ctl00_ctl00_ContentPlaceHolder1_ContentPlaceHolderInnerPage_dgTreaty'\n",
    "url = 'https://treaties.un.org/Pages/AdvanceSearch.aspx?tab=UNTS&clang=_en'"
   ]
  },
  {
   "cell_type": "markdown",
   "metadata": {},
   "source": [
    "Open browser"
   ]
  },
  {
   "cell_type": "code",
   "execution_count": 38,
   "metadata": {
    "ExecuteTime": {
     "end_time": "2017-11-17T09:00:26.997590Z",
     "start_time": "2017-11-17T09:00:21.806821Z"
    }
   },
   "outputs": [],
   "source": [
    "browser = webdriver.Chrome()\n",
    "browser.get(url)"
   ]
  },
  {
   "cell_type": "code",
   "execution_count": 39,
   "metadata": {
    "ExecuteTime": {
     "end_time": "2017-11-17T09:00:34.611417Z",
     "start_time": "2017-11-17T09:00:27.001535Z"
    }
   },
   "outputs": [],
   "source": [
    "select = Select(browser.find_element_by_name('ctl00$ctl00$ContentPlaceHolder1$ContentPlaceHolderInnerPage$drpSearchObj'))\n",
    "select.select_by_visible_text('Treaty')\n",
    "time.sleep(np.random.randint(1,2))\n",
    "## Select Show Only Original Agreement\n",
    "browser.find_element_by_id('ctl00_ctl00_ContentPlaceHolder1_ContentPlaceHolderInnerPage_rdbtreaty_2').send_keys(Keys.SPACE)\n",
    "#time.sleep(np.random.randint(10, 15))\n",
    "\n",
    "## Select filter by: Treaty type\n",
    "select = Select(browser.find_element_by_name('ctl00$ctl00$ContentPlaceHolder1$ContentPlaceHolderInnerPage$drpAttribute'))\n",
    "time.sleep(np.random.randint(1,2))\n",
    "## the 20th one is `Treaty type`\n",
    "select.select_by_index(20)\n",
    "## Select \"Open Multilateral\"\n",
    "browser.find_element_by_name('ctl00$ctl00$ContentPlaceHolder1$ContentPlaceHolderInnerPage$chkboxValues$2').send_keys(Keys.SPACE)\n",
    "#time.sleep(np.random.randint(10, 15))\n",
    "time.sleep(np.random.randint(1,2))\n",
    "browser.find_element_by_name('ctl00$ctl00$ContentPlaceHolder1$ContentPlaceHolderInnerPage$Adv_srch2').send_keys(Keys.SPACE)\n",
    "\n",
    "browser.find_element_by_name('ctl00$ctl00$ContentPlaceHolder1$ContentPlaceHolderInnerPage$btnAdd').send_keys(Keys.SPACE)\n",
    "\n",
    "if '3' in from_date:\n",
    "    from_date = from_date.replace('3', Keys.NUMPAD3)\n",
    "if '3' in to_date:\n",
    "    to_date = to_date.replace('3', Keys.NUMPAD3)\n",
    "\n",
    "select = Select(browser.find_element_by_name('ctl00$ctl00$ContentPlaceHolder1$ContentPlaceHolderInnerPage$drpAttribute'))\n",
    "select.select_by_visible_text('Date of Registration')\n",
    "from_field = browser.find_element_by_name('ctl00$ctl00$ContentPlaceHolder1$ContentPlaceHolderInnerPage$txtFrom')\n",
    "from_field.click()\n",
    "from_field.clear()\n",
    "from_field.send_keys(from_date)\n",
    "to_field = browser.find_element_by_name('ctl00$ctl00$ContentPlaceHolder1$ContentPlaceHolderInnerPage$txtTo')\n",
    "to_field.click()\n",
    "to_field.clear()\n",
    "to_field.send_keys(to_date)\n",
    "\n",
    "#time.sleep(np.random.randint(10, 15))\n",
    "browser.find_element_by_name('ctl00$ctl00$ContentPlaceHolder1$ContentPlaceHolderInnerPage$btnAdd').send_keys(Keys.SPACE)"
   ]
  },
  {
   "cell_type": "markdown",
   "metadata": {},
   "source": [
    "##### Search"
   ]
  },
  {
   "cell_type": "code",
   "execution_count": 42,
   "metadata": {
    "ExecuteTime": {
     "end_time": "2017-11-17T09:00:35.980801Z",
     "start_time": "2017-11-17T09:00:35.846442Z"
    }
   },
   "outputs": [],
   "source": [
    "browser.find_element_by_name('ctl00$ctl00$ContentPlaceHolder1$ContentPlaceHolderInnerPage$btnSubmit').send_keys(Keys.SPACE)"
   ]
  },
  {
   "cell_type": "markdown",
   "metadata": {},
   "source": [
    "#### Iterate and save data"
   ]
  },
  {
   "cell_type": "code",
   "execution_count": 43,
   "metadata": {
    "ExecuteTime": {
     "end_time": "2017-11-17T09:00:35.990487Z",
     "start_time": "2017-11-17T09:00:35.983816Z"
    }
   },
   "outputs": [],
   "source": [
    "df = pd.DataFrame(columns=column_names)"
   ]
  },
  {
   "cell_type": "code",
   "execution_count": 44,
   "metadata": {
    "ExecuteTime": {
     "end_time": "2017-11-17T09:01:19.100323Z",
     "start_time": "2017-11-17T09:00:41.995287Z"
    }
   },
   "outputs": [
    {
     "name": "stdout",
     "output_type": "stream",
     "text": [
      "Page 1, now have 10 rows\n",
      "Page 2, now have 20 rows\n",
      "Page 3, now have 25 rows\n"
     ]
    }
   ],
   "source": [
    "i = 1\n",
    "while True:\n",
    "    tbody = browser.find_element_by_id(tid).find_element_by_tag_name('tbody')\n",
    "    tr_list = tbody.find_elements_by_tag_name('tr')\n",
    "    d = len(tr_list[1].find_elements_by_tag_name('td'))\n",
    "    if d < 10:\n",
    "        s = '0%d'%d\n",
    "    else:\n",
    "        s = str(s)\n",
    "    id_ = 'ctl00$ctl00$ContentPlaceHolder1$ContentPlaceHolderInnerPage$dgTreaty$ctl01$ctl%s'%(s)\n",
    "    btn = WebDriverWait(browser,\n",
    "                        np.random.randint(5,7)).until(EC.presence_of_element_located((By.NAME, id_)))\n",
    "    df = df.append(parse_page(tr_list[3:-2]), ignore_index=True)\n",
    "    print 'Page %d, now have %d rows'%(i, df.shape[0])\n",
    "    if btn.get_attribute('disabled') is not None:\n",
    "        break\n",
    "    btn.click()\n",
    "    i += 1\n",
    "    time.sleep(np.random.randint(5, 12)+2)"
   ]
  },
  {
   "cell_type": "code",
   "execution_count": 48,
   "metadata": {
    "ExecuteTime": {
     "end_time": "2017-11-17T09:02:32.068060Z",
     "start_time": "2017-11-17T09:02:32.056432Z"
    }
   },
   "outputs": [],
   "source": [
    "df.to_csv('untc_%s_%s.csv'%(from_date.replace('/', ''), to_date.replace('/', '')), \n",
    "          index=False, encoding='utf8')"
   ]
  },
  {
   "cell_type": "markdown",
   "metadata": {},
   "source": [
    "Close"
   ]
  },
  {
   "cell_type": "code",
   "execution_count": 49,
   "metadata": {
    "ExecuteTime": {
     "end_time": "2017-11-17T09:02:36.775965Z",
     "start_time": "2017-11-17T09:02:36.631026Z"
    }
   },
   "outputs": [],
   "source": [
    "browser.close()"
   ]
  }
 ],
 "metadata": {
  "kernelspec": {
   "display_name": "Python 3",
   "language": "python",
   "name": "python3"
  },
  "language_info": {
   "codemirror_mode": {
    "name": "ipython",
    "version": 3
   },
   "file_extension": ".py",
   "mimetype": "text/x-python",
   "name": "python",
   "nbconvert_exporter": "python",
   "pygments_lexer": "ipython3",
   "version": "3.6.3"
  },
  "toc": {
   "nav_menu": {},
   "number_sections": true,
   "sideBar": true,
   "skip_h1_title": false,
   "toc_cell": false,
   "toc_position": {},
   "toc_section_display": "block",
   "toc_window_display": true
  }
 },
 "nbformat": 4,
 "nbformat_minor": 2
}
