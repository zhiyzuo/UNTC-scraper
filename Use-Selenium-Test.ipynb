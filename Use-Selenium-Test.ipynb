{
 "cells": [
  {
   "cell_type": "markdown",
   "metadata": {},
   "source": [
    "Use `selenium` to scrape UNTC"
   ]
  },
  {
   "cell_type": "markdown",
   "metadata": {},
   "source": [
    "11-17-2017."
   ]
  },
  {
   "cell_type": "markdown",
   "metadata": {},
   "source": [
    "---"
   ]
  },
  {
   "cell_type": "markdown",
   "metadata": {},
   "source": [
    "Set date"
   ]
  },
  {
   "cell_type": "code",
   "execution_count": 65,
   "metadata": {
    "ExecuteTime": {
     "end_time": "2017-11-17T02:08:47.722072Z",
     "start_time": "2017-11-17T02:08:47.718737Z"
    }
   },
   "outputs": [],
   "source": [
    "yyyy = '2012'"
   ]
  },
  {
   "cell_type": "code",
   "execution_count": 66,
   "metadata": {
    "ExecuteTime": {
     "end_time": "2017-11-17T02:08:47.898356Z",
     "start_time": "2017-11-17T02:08:47.893539Z"
    }
   },
   "outputs": [],
   "source": [
    "from_text = '01/01/%s'%yyyy\n",
    "to_text = '12/31/%s'%yyyy"
   ]
  },
  {
   "cell_type": "markdown",
   "metadata": {},
   "source": [
    "---"
   ]
  },
  {
   "cell_type": "code",
   "execution_count": 35,
   "metadata": {
    "ExecuteTime": {
     "end_time": "2017-11-17T02:07:25.877564Z",
     "start_time": "2017-11-17T02:07:25.871583Z"
    }
   },
   "outputs": [],
   "source": [
    "from selenium import webdriver"
   ]
  },
  {
   "cell_type": "code",
   "execution_count": 36,
   "metadata": {
    "ExecuteTime": {
     "end_time": "2017-11-17T02:07:29.742423Z",
     "start_time": "2017-11-17T02:07:27.982372Z"
    }
   },
   "outputs": [],
   "source": [
    "browser = webdriver.Chrome()"
   ]
  },
  {
   "cell_type": "code",
   "execution_count": 37,
   "metadata": {
    "ExecuteTime": {
     "end_time": "2017-11-17T02:07:30.972227Z",
     "start_time": "2017-11-17T02:07:30.968383Z"
    }
   },
   "outputs": [],
   "source": [
    "url = 'https://treaties.un.org/Pages/AdvanceSearch.aspx?tab=UNTS&clang=_en'"
   ]
  },
  {
   "cell_type": "code",
   "execution_count": 38,
   "metadata": {
    "ExecuteTime": {
     "end_time": "2017-11-17T02:07:34.484530Z",
     "start_time": "2017-11-17T02:07:31.852352Z"
    }
   },
   "outputs": [],
   "source": [
    "browser.get(url)"
   ]
  },
  {
   "cell_type": "markdown",
   "metadata": {},
   "source": [
    "#### Criteria"
   ]
  },
  {
   "cell_type": "markdown",
   "metadata": {},
   "source": [
    "##### Search Treaty"
   ]
  },
  {
   "cell_type": "markdown",
   "metadata": {},
   "source": [
    "https://stackoverflow.com/questions/7867537/selenium-python-drop-down-menu-option-value"
   ]
  },
  {
   "cell_type": "code",
   "execution_count": 39,
   "metadata": {
    "ExecuteTime": {
     "end_time": "2017-11-17T02:07:38.232780Z",
     "start_time": "2017-11-17T02:07:38.227990Z"
    }
   },
   "outputs": [],
   "source": [
    "from selenium.webdriver.support.ui import Select"
   ]
  },
  {
   "cell_type": "code",
   "execution_count": 40,
   "metadata": {
    "ExecuteTime": {
     "end_time": "2017-11-17T02:07:38.852567Z",
     "start_time": "2017-11-17T02:07:38.813945Z"
    }
   },
   "outputs": [],
   "source": [
    "select = Select(browser.find_element_by_name('ctl00$ctl00$ContentPlaceHolder1$ContentPlaceHolderInnerPage$drpSearchObj'))"
   ]
  },
  {
   "cell_type": "code",
   "execution_count": 41,
   "metadata": {
    "ExecuteTime": {
     "end_time": "2017-11-17T02:07:39.671819Z",
     "start_time": "2017-11-17T02:07:39.371804Z"
    }
   },
   "outputs": [
    {
     "data": {
      "text/plain": [
       "[(u'\\u2013Select-', u''),\n",
       " (u'Action', u''),\n",
       " (u'CN', u''),\n",
       " (u'CTC', u''),\n",
       " (u'Maps', u''),\n",
       " (u'Treaty', u'')]"
      ]
     },
     "execution_count": 41,
     "metadata": {},
     "output_type": "execute_result"
    }
   ],
   "source": [
    "[(item.text, item.value_of_css_property('value')) for item in select.options]"
   ]
  },
  {
   "cell_type": "code",
   "execution_count": 42,
   "metadata": {
    "ExecuteTime": {
     "end_time": "2017-11-17T02:07:40.778803Z",
     "start_time": "2017-11-17T02:07:40.693148Z"
    }
   },
   "outputs": [],
   "source": [
    "select.select_by_visible_text('Treaty')"
   ]
  },
  {
   "cell_type": "markdown",
   "metadata": {},
   "source": [
    "###### Select \"Show Only Original Agreement\""
   ]
  },
  {
   "cell_type": "code",
   "execution_count": 43,
   "metadata": {
    "ExecuteTime": {
     "end_time": "2017-11-17T02:07:42.087549Z",
     "start_time": "2017-11-17T02:07:41.973090Z"
    }
   },
   "outputs": [],
   "source": [
    "browser.find_element_by_id('ctl00_ctl00_ContentPlaceHolder1_ContentPlaceHolderInnerPage_rdbtreaty_2').click()"
   ]
  },
  {
   "cell_type": "markdown",
   "metadata": {},
   "source": [
    "##### Select filter by: Treaty type"
   ]
  },
  {
   "cell_type": "code",
   "execution_count": 44,
   "metadata": {
    "ExecuteTime": {
     "end_time": "2017-11-17T02:07:45.478914Z",
     "start_time": "2017-11-17T02:07:45.433332Z"
    }
   },
   "outputs": [],
   "source": [
    "select = Select(browser.find_element_by_name('ctl00$ctl00$ContentPlaceHolder1$ContentPlaceHolderInnerPage$drpAttribute'))"
   ]
  },
  {
   "cell_type": "code",
   "execution_count": 45,
   "metadata": {
    "ExecuteTime": {
     "end_time": "2017-11-17T02:07:47.336764Z",
     "start_time": "2017-11-17T02:07:46.229471Z"
    }
   },
   "outputs": [
    {
     "data": {
      "text/plain": [
       "[(u'--Select--', u''),\n",
       " (u'Attachments', u''),\n",
       " (u'Authentic text', u''),\n",
       " (u'Date of Conclusion', u''),\n",
       " (u'Date of Entry into Force', u''),\n",
       " (u'Date of Receipt', u''),\n",
       " (u'Date of Registration', u''),\n",
       " (u'Depositary', u''),\n",
       " (u'Document disposition', u''),\n",
       " (u'English title', u''),\n",
       " (u'French Title', u''),\n",
       " (u'ICJ Clause', u''),\n",
       " (u'MTDSG Reference Number', u''),\n",
       " (u'Participant', u''),\n",
       " (u'Party (for MTDSG treaties only)', u''),\n",
       " (u'Place of Conclusion', u''),\n",
       " (u'Registration Number', u''),\n",
       " (u'Signatory (for MTDSG treaties only)', u''),\n",
       " (u'Subject term', u''),\n",
       " (u'Submittor', u''),\n",
       " (u'Treaty type', u''),\n",
       " (u'Volume Number', u'')]"
      ]
     },
     "execution_count": 45,
     "metadata": {},
     "output_type": "execute_result"
    }
   ],
   "source": [
    "[(item.text, item.value_of_css_property('value')) for item in select.options]"
   ]
  },
  {
   "cell_type": "code",
   "execution_count": 46,
   "metadata": {
    "ExecuteTime": {
     "end_time": "2017-11-17T02:07:49.994193Z",
     "start_time": "2017-11-17T02:07:49.978301Z"
    }
   },
   "outputs": [
    {
     "data": {
      "text/plain": [
       "22"
      ]
     },
     "execution_count": 46,
     "metadata": {},
     "output_type": "execute_result"
    }
   ],
   "source": [
    "len(select.options)"
   ]
  },
  {
   "cell_type": "code",
   "execution_count": 47,
   "metadata": {
    "ExecuteTime": {
     "end_time": "2017-11-17T02:07:50.961418Z",
     "start_time": "2017-11-17T02:07:50.654457Z"
    }
   },
   "outputs": [],
   "source": [
    "select.select_by_index(20)"
   ]
  },
  {
   "cell_type": "markdown",
   "metadata": {},
   "source": [
    "###### Select \"Open Multilateral\""
   ]
  },
  {
   "cell_type": "code",
   "execution_count": 48,
   "metadata": {
    "ExecuteTime": {
     "end_time": "2017-11-17T02:07:52.725340Z",
     "start_time": "2017-11-17T02:07:51.895586Z"
    }
   },
   "outputs": [],
   "source": [
    "browser.find_element_by_name('ctl00$ctl00$ContentPlaceHolder1$ContentPlaceHolderInnerPage$chkboxValues$2').click()"
   ]
  },
  {
   "cell_type": "markdown",
   "metadata": {},
   "source": [
    "###### Match all these values"
   ]
  },
  {
   "cell_type": "code",
   "execution_count": 49,
   "metadata": {
    "ExecuteTime": {
     "end_time": "2017-11-17T02:07:54.055042Z",
     "start_time": "2017-11-17T02:07:53.941061Z"
    }
   },
   "outputs": [],
   "source": [
    "browser.find_element_by_name('ctl00$ctl00$ContentPlaceHolder1$ContentPlaceHolderInnerPage$Adv_srch2').click()"
   ]
  },
  {
   "cell_type": "markdown",
   "metadata": {},
   "source": [
    "###### Add to criteria button"
   ]
  },
  {
   "cell_type": "code",
   "execution_count": 52,
   "metadata": {
    "ExecuteTime": {
     "end_time": "2017-11-17T02:08:09.459570Z",
     "start_time": "2017-11-17T02:08:03.796135Z"
    }
   },
   "outputs": [],
   "source": [
    "browser.find_element_by_name('ctl00$ctl00$ContentPlaceHolder1$ContentPlaceHolderInnerPage$btnAdd').click()"
   ]
  },
  {
   "cell_type": "markdown",
   "metadata": {},
   "source": [
    "##### Set date"
   ]
  },
  {
   "cell_type": "code",
   "execution_count": 67,
   "metadata": {
    "ExecuteTime": {
     "end_time": "2017-11-17T02:08:50.923264Z",
     "start_time": "2017-11-17T02:08:50.886815Z"
    }
   },
   "outputs": [],
   "source": [
    "select = Select(browser.find_element_by_name('ctl00$ctl00$ContentPlaceHolder1$ContentPlaceHolderInnerPage$drpAttribute'))"
   ]
  },
  {
   "cell_type": "code",
   "execution_count": 68,
   "metadata": {
    "ExecuteTime": {
     "end_time": "2017-11-17T02:08:52.333117Z",
     "start_time": "2017-11-17T02:08:51.092655Z"
    }
   },
   "outputs": [
    {
     "data": {
      "text/plain": [
       "[(u'--Select--', u''),\n",
       " (u'Attachments', u''),\n",
       " (u'Authentic text', u''),\n",
       " (u'Date of Conclusion', u''),\n",
       " (u'Date of Entry into Force', u''),\n",
       " (u'Date of Receipt', u''),\n",
       " (u'Date of Registration', u''),\n",
       " (u'Depositary', u''),\n",
       " (u'Document disposition', u''),\n",
       " (u'English title', u''),\n",
       " (u'French Title', u''),\n",
       " (u'ICJ Clause', u''),\n",
       " (u'MTDSG Reference Number', u''),\n",
       " (u'Participant', u''),\n",
       " (u'Party (for MTDSG treaties only)', u''),\n",
       " (u'Place of Conclusion', u''),\n",
       " (u'Registration Number', u''),\n",
       " (u'Signatory (for MTDSG treaties only)', u''),\n",
       " (u'Subject term', u''),\n",
       " (u'Submittor', u''),\n",
       " (u'Treaty type', u''),\n",
       " (u'Volume Number', u'')]"
      ]
     },
     "execution_count": 68,
     "metadata": {},
     "output_type": "execute_result"
    }
   ],
   "source": [
    "[(item.text, item.value_of_css_property('value')) for item in select.options]"
   ]
  },
  {
   "cell_type": "code",
   "execution_count": 69,
   "metadata": {
    "ExecuteTime": {
     "end_time": "2017-11-17T02:08:52.414450Z",
     "start_time": "2017-11-17T02:08:52.335828Z"
    }
   },
   "outputs": [],
   "source": [
    "select.select_by_visible_text('Date of Registration')"
   ]
  },
  {
   "cell_type": "markdown",
   "metadata": {},
   "source": [
    "###### From and end date"
   ]
  },
  {
   "cell_type": "markdown",
   "metadata": {},
   "source": [
    "https://stackoverflow.com/questions/39520708/using-selenium-on-calendar-date-picker"
   ]
  },
  {
   "cell_type": "code",
   "execution_count": 70,
   "metadata": {
    "ExecuteTime": {
     "end_time": "2017-11-17T02:08:53.722441Z",
     "start_time": "2017-11-17T02:08:53.698668Z"
    }
   },
   "outputs": [],
   "source": [
    "from_field = browser.find_element_by_name('ctl00$ctl00$ContentPlaceHolder1$ContentPlaceHolderInnerPage$txtFrom')"
   ]
  },
  {
   "cell_type": "code",
   "execution_count": 71,
   "metadata": {
    "ExecuteTime": {
     "end_time": "2017-11-17T02:09:00.027034Z",
     "start_time": "2017-11-17T02:08:54.011136Z"
    }
   },
   "outputs": [],
   "source": [
    "from_field.click()\n",
    "from_field.clear()"
   ]
  },
  {
   "cell_type": "code",
   "execution_count": 72,
   "metadata": {
    "ExecuteTime": {
     "end_time": "2017-11-17T02:09:00.177557Z",
     "start_time": "2017-11-17T02:09:00.031542Z"
    }
   },
   "outputs": [],
   "source": [
    "from_field.send_keys(from_text)"
   ]
  },
  {
   "cell_type": "code",
   "execution_count": 73,
   "metadata": {
    "ExecuteTime": {
     "end_time": "2017-11-17T02:09:00.217838Z",
     "start_time": "2017-11-17T02:09:00.180997Z"
    }
   },
   "outputs": [],
   "source": [
    "to_field = browser.find_element_by_name('ctl00$ctl00$ContentPlaceHolder1$ContentPlaceHolderInnerPage$txtTo')"
   ]
  },
  {
   "cell_type": "code",
   "execution_count": 74,
   "metadata": {
    "ExecuteTime": {
     "end_time": "2017-11-17T02:09:05.414078Z",
     "start_time": "2017-11-17T02:09:00.221546Z"
    }
   },
   "outputs": [],
   "source": [
    "to_field.click()\n",
    "to_field.clear()"
   ]
  },
  {
   "cell_type": "code",
   "execution_count": 75,
   "metadata": {
    "ExecuteTime": {
     "end_time": "2017-11-17T02:09:05.607751Z",
     "start_time": "2017-11-17T02:09:05.419159Z"
    }
   },
   "outputs": [],
   "source": [
    "to_field.send_keys(to_text)"
   ]
  },
  {
   "cell_type": "markdown",
   "metadata": {},
   "source": [
    "###### Add to criteria button"
   ]
  },
  {
   "cell_type": "code",
   "execution_count": 76,
   "metadata": {
    "ExecuteTime": {
     "end_time": "2017-11-17T02:09:10.835189Z",
     "start_time": "2017-11-17T02:09:05.612349Z"
    }
   },
   "outputs": [],
   "source": [
    "browser.find_element_by_name('ctl00$ctl00$ContentPlaceHolder1$ContentPlaceHolderInnerPage$btnAdd').click()"
   ]
  },
  {
   "cell_type": "markdown",
   "metadata": {},
   "source": [
    "##### Search button"
   ]
  },
  {
   "cell_type": "code",
   "execution_count": 78,
   "metadata": {
    "ExecuteTime": {
     "end_time": "2017-11-17T02:09:40.639400Z",
     "start_time": "2017-11-17T02:09:39.446965Z"
    }
   },
   "outputs": [],
   "source": [
    "browser.find_element_by_name('ctl00$ctl00$ContentPlaceHolder1$ContentPlaceHolderInnerPage$btnSubmit').click()"
   ]
  },
  {
   "cell_type": "markdown",
   "metadata": {},
   "source": [
    "---"
   ]
  },
  {
   "cell_type": "markdown",
   "metadata": {},
   "source": [
    "#### Parse content"
   ]
  },
  {
   "cell_type": "markdown",
   "metadata": {},
   "source": [
    "Find all rows"
   ]
  },
  {
   "cell_type": "code",
   "execution_count": 122,
   "metadata": {
    "ExecuteTime": {
     "end_time": "2017-11-17T01:05:37.432411Z",
     "start_time": "2017-11-17T01:05:37.396845Z"
    }
   },
   "outputs": [],
   "source": [
    "tr_list = browser.find_elements_by_tag_name('tr')[15:15+10]"
   ]
  },
  {
   "cell_type": "code",
   "execution_count": 123,
   "metadata": {
    "ExecuteTime": {
     "end_time": "2017-11-17T01:05:38.154122Z",
     "start_time": "2017-11-17T01:05:37.870181Z"
    }
   },
   "outputs": [
    {
     "name": "stdout",
     "output_type": "stream",
     "text": [
      "International Convention on Arrest of Ships, 1999$ I-49196$ 01/12/2011$ Open Multilateral$ 12/03/1999$ 2797$\n"
     ]
    }
   ],
   "source": [
    "for tr in tr_list:\n",
    "    for td in tr.find_elements_by_tag_name('td'):\n",
    "        print td.text + '$',\n",
    "    print\n",
    "    break"
   ]
  },
  {
   "cell_type": "markdown",
   "metadata": {},
   "source": [
    "---"
   ]
  },
  {
   "cell_type": "markdown",
   "metadata": {
    "ExecuteTime": {
     "end_time": "2017-11-17T00:32:54.082197Z",
     "start_time": "2017-11-17T00:32:54.074630Z"
    }
   },
   "source": [
    "Try find next page"
   ]
  },
  {
   "cell_type": "code",
   "execution_count": 25,
   "metadata": {
    "ExecuteTime": {
     "end_time": "2017-11-17T01:15:47.319258Z",
     "start_time": "2017-11-17T01:15:45.175919Z"
    }
   },
   "outputs": [],
   "source": [
    "browser.find_element_by_name('ctl00$ctl00$ContentPlaceHolder1$ContentPlaceHolderInnerPage$dgTreaty$ctl01$ctl04').click()"
   ]
  },
  {
   "cell_type": "code",
   "execution_count": 27,
   "metadata": {
    "ExecuteTime": {
     "end_time": "2017-11-17T01:16:21.974771Z",
     "start_time": "2017-11-17T01:16:21.943468Z"
    }
   },
   "outputs": [],
   "source": [
    "next_btn = browser.find_element_by_name('ctl00$ctl00$ContentPlaceHolder1$ContentPlaceHolderInnerPage$dgTreaty$ctl01$ctl04')"
   ]
  },
  {
   "cell_type": "code",
   "execution_count": 28,
   "metadata": {
    "ExecuteTime": {
     "end_time": "2017-11-17T01:16:31.664776Z",
     "start_time": "2017-11-17T01:16:31.644976Z"
    }
   },
   "outputs": [
    {
     "data": {
      "text/plain": [
       "u'true'"
      ]
     },
     "execution_count": 28,
     "metadata": {},
     "output_type": "execute_result"
    }
   ],
   "source": [
    "next_btn.get_attribute('disabled')"
   ]
  },
  {
   "cell_type": "markdown",
   "metadata": {},
   "source": [
    "See if contents make sense"
   ]
  },
  {
   "cell_type": "code",
   "execution_count": 129,
   "metadata": {
    "ExecuteTime": {
     "end_time": "2017-11-17T01:07:01.953069Z",
     "start_time": "2017-11-17T01:07:01.923221Z"
    }
   },
   "outputs": [],
   "source": [
    "tbody = browser.find_elements_by_tag_name('tbody')"
   ]
  },
  {
   "cell_type": "code",
   "execution_count": 139,
   "metadata": {
    "ExecuteTime": {
     "end_time": "2017-11-17T01:07:36.031378Z",
     "start_time": "2017-11-17T01:07:35.944390Z"
    }
   },
   "outputs": [
    {
     "data": {
      "text/plain": [
       "u'1 2\\nTitle Registration Number Registration Date Treaty Type Date of Conclusion UNTS Volume number\\nEuropean Convention on Consular Functions I-48642 21/06/2011 Open Multilateral 11/12/1967 2757\\nCouncil of Europe Framework Convention on the Value of Cultural Heritage for Society I-48648 21/06/2011 Open Multilateral 27/10/2005 2758\\nAmended Convention establishing the European centre for medium-range weather forecasts I-48677 10/06/2011 Open Multilateral 22/04/2005 2760\\nAgreement on the Central Asian and Caucasus Regional Fisheries and Aquaculture Commission I-48577 14/06/2011 Open Multilateral 30/09/2009 2754\\nAgreement on international humane trapping standards between the European Community, Canada a... I-48682 10/06/2011 Open Multilateral 15/12/1997, 22/04/1998 2761\\nAgreement for the establishment of the International Anti-Corruption Academy as an international ... I-48545 31/05/2011 Open Multilateral 02/09/2010 2751\\nAgreement between Ireland, the Kingdom of the Netherlands, the Kingdom of Spain, the Italian Republic, t... I-48975 13/09/2011 Open Multilateral 30/09/2007 2784\\n1 2'"
      ]
     },
     "execution_count": 139,
     "metadata": {},
     "output_type": "execute_result"
    }
   ],
   "source": [
    "tbody[3].text"
   ]
  },
  {
   "cell_type": "code",
   "execution_count": 144,
   "metadata": {
    "ExecuteTime": {
     "end_time": "2017-11-17T01:08:04.538306Z",
     "start_time": "2017-11-17T01:08:04.516243Z"
    }
   },
   "outputs": [],
   "source": [
    "tr_list = tbody[3].find_elements_by_tag_name('tr')[2:-2]"
   ]
  },
  {
   "cell_type": "code",
   "execution_count": 145,
   "metadata": {
    "ExecuteTime": {
     "end_time": "2017-11-17T01:08:06.981588Z",
     "start_time": "2017-11-17T01:08:05.498816Z"
    }
   },
   "outputs": [
    {
     "name": "stdout",
     "output_type": "stream",
     "text": [
      "\n",
      "European Convention on Consular Functions$ I-48642$ 21/06/2011$ Open Multilateral$ 11/12/1967$ 2757$\n",
      "Council of Europe Framework Convention on the Value of Cultural Heritage for Society$ I-48648$ 21/06/2011$ Open Multilateral$ 27/10/2005$ 2758$\n",
      "Amended Convention establishing the European centre for medium-range weather forecasts$ I-48677$ 10/06/2011$ Open Multilateral$ 22/04/2005$ 2760$\n",
      "Agreement on the Central Asian and Caucasus Regional Fisheries and Aquaculture Commission$ I-48577$ 14/06/2011$ Open Multilateral$ 30/09/2009$ 2754$\n",
      "Agreement on international humane trapping standards between the European Community, Canada a...$ I-48682$ 10/06/2011$ Open Multilateral$ 15/12/1997, 22/04/1998$ 2761$\n",
      "Agreement for the establishment of the International Anti-Corruption Academy as an international ...$ I-48545$ 31/05/2011$ Open Multilateral$ 02/09/2010$ 2751$\n",
      "Agreement between Ireland, the Kingdom of the Netherlands, the Kingdom of Spain, the Italian Republic, t...$ I-48975$ 13/09/2011$ Open Multilateral$ 30/09/2007$ 2784$\n"
     ]
    }
   ],
   "source": [
    "for tr in tr_list:\n",
    "    for td in tr.find_elements_by_tag_name('td'):\n",
    "        print td.text + '$',\n",
    "    print"
   ]
  },
  {
   "cell_type": "code",
   "execution_count": 29,
   "metadata": {
    "ExecuteTime": {
     "end_time": "2017-11-17T01:21:21.490649Z",
     "start_time": "2017-11-17T01:21:21.292652Z"
    }
   },
   "outputs": [],
   "source": [
    "browser.close()"
   ]
  }
 ],
 "metadata": {
  "kernelspec": {
   "display_name": "Python 2",
   "language": "python",
   "name": "python2"
  },
  "language_info": {
   "codemirror_mode": {
    "name": "ipython",
    "version": 2
   },
   "file_extension": ".py",
   "mimetype": "text/x-python",
   "name": "python",
   "nbconvert_exporter": "python",
   "pygments_lexer": "ipython2",
   "version": "2.7.14"
  },
  "toc": {
   "nav_menu": {},
   "number_sections": true,
   "sideBar": true,
   "skip_h1_title": false,
   "toc_cell": false,
   "toc_position": {
    "height": "836px",
    "left": "0px",
    "right": "1468px",
    "top": "113px",
    "width": "212px"
   },
   "toc_section_display": "block",
   "toc_window_display": true
  }
 },
 "nbformat": 4,
 "nbformat_minor": 2
}
