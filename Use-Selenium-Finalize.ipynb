{
 "cells": [
  {
   "cell_type": "markdown",
   "metadata": {},
   "source": [
    "Scraper based on Selenium"
   ]
  },
  {
   "cell_type": "markdown",
   "metadata": {},
   "source": [
    "12-24-2017."
   ]
  },
  {
   "cell_type": "markdown",
   "metadata": {},
   "source": [
    "Rather than using a for loop and click next, I can directly call the javascript function"
   ]
  },
  {
   "cell_type": "markdown",
   "metadata": {},
   "source": [
    "---"
   ]
  },
  {
   "cell_type": "code",
   "execution_count": 1,
   "metadata": {
    "ExecuteTime": {
     "end_time": "2017-12-24T17:29:36.533911Z",
     "start_time": "2017-12-24T17:29:36.530907Z"
    }
   },
   "outputs": [],
   "source": [
    "import string, time"
   ]
  },
  {
   "cell_type": "code",
   "execution_count": 2,
   "metadata": {
    "ExecuteTime": {
     "end_time": "2017-12-24T17:29:37.302222Z",
     "start_time": "2017-12-24T17:29:36.638236Z"
    }
   },
   "outputs": [],
   "source": [
    "import pandas as pd\n",
    "from bs4 import BeautifulSoup as Soup"
   ]
  },
  {
   "cell_type": "code",
   "execution_count": 3,
   "metadata": {
    "ExecuteTime": {
     "end_time": "2017-12-24T17:29:37.416072Z",
     "start_time": "2017-12-24T17:29:37.304360Z"
    }
   },
   "outputs": [],
   "source": [
    "from selenium import webdriver\n",
    "from selenium.webdriver.common.by import By\n",
    "from selenium.webdriver.common.keys import Keys\n",
    "from selenium.webdriver.support.ui import Select\n",
    "from selenium.webdriver.support.wait import WebDriverWait\n",
    "from selenium.webdriver.support import expected_conditions as EC"
   ]
  },
  {
   "cell_type": "code",
   "execution_count": 4,
   "metadata": {
    "ExecuteTime": {
     "end_time": "2017-12-24T17:29:37.424761Z",
     "start_time": "2017-12-24T17:29:37.418374Z"
    }
   },
   "outputs": [],
   "source": [
    "def replace_digit(my_str):\n",
    "    new_text = list()\n",
    "    for char in my_str:\n",
    "        if char in string.digits:\n",
    "            eval(\"new_text.append(Keys.NUMPAD%s)\"%char)\n",
    "        else:\n",
    "            new_text.append(char)\n",
    "    return(''.join(new_text))"
   ]
  },
  {
   "cell_type": "code",
   "execution_count": 5,
   "metadata": {
    "ExecuteTime": {
     "end_time": "2017-12-24T17:29:37.439958Z",
     "start_time": "2017-12-24T17:29:37.427190Z"
    }
   },
   "outputs": [],
   "source": [
    "def parse_page(tr_list):\n",
    "    #tr_list = [Soup(tr.text, 'lxml') for tr in tr_list]\n",
    "    tmp = list()\n",
    "    for tr in tr_list:\n",
    "        tmp.append(list())\n",
    "        for i, td in enumerate(tr.find_all('td')):\n",
    "            if i == 0:\n",
    "                tmp[-1].append(base_url+td.a['href'])\n",
    "            tmp[-1].append(td.text.strip())\n",
    "    return pd.DataFrame(tmp, columns=column_names)"
   ]
  },
  {
   "cell_type": "markdown",
   "metadata": {},
   "source": [
    "---"
   ]
  },
  {
   "cell_type": "markdown",
   "metadata": {},
   "source": [
    "#### Input arg: start/end date"
   ]
  },
  {
   "cell_type": "code",
   "execution_count": 20,
   "metadata": {
    "ExecuteTime": {
     "end_time": "2017-12-24T15:40:16.580047Z",
     "start_time": "2017-12-24T15:40:16.559178Z"
    }
   },
   "outputs": [
    {
     "data": {
      "text/plain": [
       "('01/01/1945', '31/12/1955')"
      ]
     },
     "execution_count": 20,
     "metadata": {},
     "output_type": "execute_result"
    }
   ],
   "source": [
    "yyyy = 1945\n",
    "from_text = '01/01/%s'%yyyy\n",
    "to_text = '31/12/%s'%(yyyy+10)\n",
    "from_text, to_text"
   ]
  },
  {
   "cell_type": "code",
   "execution_count": 21,
   "metadata": {
    "ExecuteTime": {
     "end_time": "2017-12-24T15:40:16.759118Z",
     "start_time": "2017-12-24T15:40:16.751222Z"
    }
   },
   "outputs": [
    {
     "data": {
      "text/plain": [
       "('\\ue01a\\ue01b/\\ue01a\\ue01b/\\ue01b\\ue023\\ue01e\\ue01f',\n",
       " '\\ue01d\\ue01b/\\ue01b\\ue01c/\\ue01b\\ue023\\ue01f\\ue01f')"
      ]
     },
     "execution_count": 21,
     "metadata": {},
     "output_type": "execute_result"
    }
   ],
   "source": [
    "from_text = replace_digit(from_text)\n",
    "to_text = replace_digit(to_text)\n",
    "from_text, to_text"
   ]
  },
  {
   "cell_type": "markdown",
   "metadata": {},
   "source": [
    "---"
   ]
  },
  {
   "cell_type": "markdown",
   "metadata": {},
   "source": [
    "Disable Image"
   ]
  },
  {
   "cell_type": "code",
   "execution_count": null,
   "metadata": {
    "ExecuteTime": {
     "end_time": "2017-12-24T07:03:49.181062Z",
     "start_time": "2017-12-24T07:03:49.175999Z"
    }
   },
   "outputs": [],
   "source": [
    "chromeOptions = webdriver.ChromeOptions()\n",
    "prefs = {\"profile.managed_default_content_settings.images\":2}\n",
    "chromeOptions.add_experimental_option(\"prefs\", prefs)"
   ]
  },
  {
   "cell_type": "markdown",
   "metadata": {},
   "source": [
    "---"
   ]
  },
  {
   "cell_type": "markdown",
   "metadata": {},
   "source": [
    "#### Start browser"
   ]
  },
  {
   "cell_type": "code",
   "execution_count": 6,
   "metadata": {
    "ExecuteTime": {
     "end_time": "2017-12-24T15:38:39.659175Z",
     "start_time": "2017-12-24T15:38:37.835425Z"
    }
   },
   "outputs": [],
   "source": [
    "#browser = webdriver.Chrome(chrome_options=chromeOptions)\n",
    "browser = webdriver.Chrome()"
   ]
  },
  {
   "cell_type": "code",
   "execution_count": 7,
   "metadata": {
    "ExecuteTime": {
     "end_time": "2017-12-24T15:38:39.665899Z",
     "start_time": "2017-12-24T15:38:39.662175Z"
    }
   },
   "outputs": [],
   "source": [
    "url = 'https://treaties.un.org/Pages/AdvanceSearch.aspx?tab=UNTS&clang=_en'"
   ]
  },
  {
   "cell_type": "code",
   "execution_count": 8,
   "metadata": {
    "ExecuteTime": {
     "end_time": "2017-12-24T15:39:01.002121Z",
     "start_time": "2017-12-24T15:38:39.668540Z"
    }
   },
   "outputs": [],
   "source": [
    "browser.get(url)"
   ]
  },
  {
   "cell_type": "markdown",
   "metadata": {},
   "source": [
    "---"
   ]
  },
  {
   "cell_type": "markdown",
   "metadata": {},
   "source": [
    "#### Treaty type"
   ]
  },
  {
   "cell_type": "code",
   "execution_count": 9,
   "metadata": {
    "ExecuteTime": {
     "end_time": "2017-12-24T15:39:55.904054Z",
     "start_time": "2017-12-24T15:39:54.065659Z"
    }
   },
   "outputs": [],
   "source": [
    "select = Select(browser.find_element_by_name('ctl00$ctl00$ContentPlaceHolder1$ContentPlaceHolderInnerPage$drpSearchObj'))\n",
    "select.select_by_visible_text('Treaty')"
   ]
  },
  {
   "cell_type": "code",
   "execution_count": 10,
   "metadata": {
    "ExecuteTime": {
     "end_time": "2017-12-24T15:39:57.531134Z",
     "start_time": "2017-12-24T15:39:55.906496Z"
    }
   },
   "outputs": [],
   "source": [
    "browser.find_element_by_id('ctl00_ctl00_ContentPlaceHolder1_ContentPlaceHolderInnerPage_rdbtreaty_2').click()"
   ]
  },
  {
   "cell_type": "code",
   "execution_count": 11,
   "metadata": {
    "ExecuteTime": {
     "end_time": "2017-12-24T15:39:57.583608Z",
     "start_time": "2017-12-24T15:39:57.533874Z"
    }
   },
   "outputs": [],
   "source": [
    "select = Select(browser.find_element_by_name('ctl00$ctl00$ContentPlaceHolder1$ContentPlaceHolderInnerPage$drpAttribute'))"
   ]
  },
  {
   "cell_type": "code",
   "execution_count": 12,
   "metadata": {
    "ExecuteTime": {
     "end_time": "2017-12-24T15:39:59.400431Z",
     "start_time": "2017-12-24T15:39:57.588510Z"
    }
   },
   "outputs": [],
   "source": [
    "select.select_by_index(20)"
   ]
  },
  {
   "cell_type": "code",
   "execution_count": 13,
   "metadata": {
    "ExecuteTime": {
     "end_time": "2017-12-24T15:39:59.499241Z",
     "start_time": "2017-12-24T15:39:59.404391Z"
    }
   },
   "outputs": [],
   "source": [
    "browser.find_element_by_name('ctl00$ctl00$ContentPlaceHolder1$ContentPlaceHolderInnerPage$chkboxValues$2').click()"
   ]
  },
  {
   "cell_type": "code",
   "execution_count": 14,
   "metadata": {
    "ExecuteTime": {
     "end_time": "2017-12-24T15:39:59.594888Z",
     "start_time": "2017-12-24T15:39:59.502142Z"
    }
   },
   "outputs": [],
   "source": [
    "browser.find_element_by_name('ctl00$ctl00$ContentPlaceHolder1$ContentPlaceHolderInnerPage$Adv_srch2').click()"
   ]
  },
  {
   "cell_type": "code",
   "execution_count": 15,
   "metadata": {
    "ExecuteTime": {
     "end_time": "2017-12-24T15:40:00.026056Z",
     "start_time": "2017-12-24T15:39:59.598833Z"
    }
   },
   "outputs": [],
   "source": [
    "browser.find_element_by_name('ctl00$ctl00$ContentPlaceHolder1$ContentPlaceHolderInnerPage$btnAdd').send_keys(Keys.SPACE)"
   ]
  },
  {
   "cell_type": "markdown",
   "metadata": {},
   "source": [
    "---"
   ]
  },
  {
   "cell_type": "markdown",
   "metadata": {},
   "source": [
    "#### Date"
   ]
  },
  {
   "cell_type": "code",
   "execution_count": 16,
   "metadata": {
    "ExecuteTime": {
     "end_time": "2017-12-24T15:40:06.794932Z",
     "start_time": "2017-12-24T15:40:06.773077Z"
    }
   },
   "outputs": [],
   "source": [
    "select = Select(browser.find_element_by_name('ctl00$ctl00$ContentPlaceHolder1$ContentPlaceHolderInnerPage$drpAttribute'))"
   ]
  },
  {
   "cell_type": "code",
   "execution_count": 17,
   "metadata": {
    "ExecuteTime": {
     "end_time": "2017-12-24T15:40:07.632686Z",
     "start_time": "2017-12-24T15:40:07.577397Z"
    }
   },
   "outputs": [],
   "source": [
    "select.select_by_visible_text('Date of Registration')"
   ]
  },
  {
   "cell_type": "code",
   "execution_count": 22,
   "metadata": {
    "ExecuteTime": {
     "end_time": "2017-12-24T15:40:20.203343Z",
     "start_time": "2017-12-24T15:40:20.086299Z"
    }
   },
   "outputs": [
    {
     "data": {
      "text/plain": [
       "'01/01/1945'"
      ]
     },
     "execution_count": 22,
     "metadata": {},
     "output_type": "execute_result"
    }
   ],
   "source": [
    "from_field = browser.find_element_by_name('ctl00$ctl00$ContentPlaceHolder1$ContentPlaceHolderInnerPage$txtFrom')\n",
    "from_field.send_keys(Keys.SPACE)\n",
    "from_field.clear()\n",
    "from_field.send_keys(from_text)\n",
    "from_field.get_attribute('value')"
   ]
  },
  {
   "cell_type": "code",
   "execution_count": 23,
   "metadata": {
    "ExecuteTime": {
     "end_time": "2017-12-24T15:40:44.842167Z",
     "start_time": "2017-12-24T15:40:44.607804Z"
    }
   },
   "outputs": [
    {
     "data": {
      "text/plain": [
       "'31/12/1955'"
      ]
     },
     "execution_count": 23,
     "metadata": {},
     "output_type": "execute_result"
    }
   ],
   "source": [
    "to_field = browser.find_element_by_name('ctl00$ctl00$ContentPlaceHolder1$ContentPlaceHolderInnerPage$txtTo')\n",
    "to_field.send_keys(Keys.SPACE)\n",
    "to_field.clear()\n",
    "to_field.send_keys(to_text)\n",
    "to_field.get_attribute('value')"
   ]
  },
  {
   "cell_type": "code",
   "execution_count": 24,
   "metadata": {
    "ExecuteTime": {
     "end_time": "2017-12-24T15:40:48.826888Z",
     "start_time": "2017-12-24T15:40:48.749174Z"
    }
   },
   "outputs": [],
   "source": [
    "browser.find_element_by_name('ctl00$ctl00$ContentPlaceHolder1$ContentPlaceHolderInnerPage$btnAdd').send_keys(Keys.SPACE)"
   ]
  },
  {
   "cell_type": "code",
   "execution_count": 25,
   "metadata": {
    "ExecuteTime": {
     "end_time": "2017-12-24T15:40:50.675711Z",
     "start_time": "2017-12-24T15:40:50.609015Z"
    }
   },
   "outputs": [],
   "source": [
    "browser.find_element_by_name('ctl00$ctl00$ContentPlaceHolder1$ContentPlaceHolderInnerPage$btnSubmit').send_keys(Keys.SPACE)"
   ]
  },
  {
   "cell_type": "markdown",
   "metadata": {},
   "source": [
    "---"
   ]
  },
  {
   "cell_type": "markdown",
   "metadata": {},
   "source": [
    "#### Parse result"
   ]
  },
  {
   "cell_type": "code",
   "execution_count": 26,
   "metadata": {
    "ExecuteTime": {
     "end_time": "2017-12-24T15:40:52.773188Z",
     "start_time": "2017-12-24T15:40:52.769498Z"
    }
   },
   "outputs": [],
   "source": [
    "column_names = ['href', 'title', 'reg_num', 'reg_date', 'type', 'con_date', 'vol']\n",
    "base_url = 'https://treaties.un.org'"
   ]
  },
  {
   "cell_type": "code",
   "execution_count": 27,
   "metadata": {
    "ExecuteTime": {
     "end_time": "2017-12-24T15:40:54.685527Z",
     "start_time": "2017-12-24T15:40:54.678261Z"
    }
   },
   "outputs": [],
   "source": [
    "df = pd.DataFrame(columns=column_names)"
   ]
  },
  {
   "cell_type": "markdown",
   "metadata": {
    "solution2": "hidden",
    "solution2_first": true
   },
   "source": [
    "##### Test by paring 1 page"
   ]
  },
  {
   "cell_type": "markdown",
   "metadata": {
    "ExecuteTime": {
     "end_time": "2017-12-24T09:46:48.885180Z",
     "start_time": "2017-12-24T09:46:48.878051Z"
    },
    "solution2": "hidden"
   },
   "source": [
    "###### When page number is less than 10"
   ]
  },
  {
   "cell_type": "code",
   "execution_count": 121,
   "metadata": {
    "ExecuteTime": {
     "end_time": "2017-12-24T14:08:49.007331Z",
     "start_time": "2017-12-24T14:08:49.004631Z"
    },
    "solution2": "hidden"
   },
   "outputs": [],
   "source": [
    "pg = 7"
   ]
  },
  {
   "cell_type": "code",
   "execution_count": 122,
   "metadata": {
    "ExecuteTime": {
     "end_time": "2017-12-24T14:08:50.258538Z",
     "start_time": "2017-12-24T14:08:50.229531Z"
    },
    "solution2": "hidden"
   },
   "outputs": [],
   "source": [
    "browser.execute_script(\"__doPostBack('ctl00$ctl00$ContentPlaceHolder1$ContentPlaceHolderInnerPage$dgTreaty','Page$%d')\"%pg)"
   ]
  },
  {
   "cell_type": "code",
   "execution_count": 123,
   "metadata": {
    "ExecuteTime": {
     "end_time": "2017-12-24T14:11:02.704895Z",
     "start_time": "2017-12-24T14:11:02.700343Z"
    },
    "solution2": "hidden"
   },
   "outputs": [
    {
     "data": {
      "text/plain": [
       "6"
      ]
     },
     "execution_count": 123,
     "metadata": {},
     "output_type": "execute_result"
    }
   ],
   "source": [
    "loc = int(pg%11) - 1\n",
    "loc"
   ]
  },
  {
   "cell_type": "code",
   "execution_count": 124,
   "metadata": {
    "ExecuteTime": {
     "end_time": "2017-12-24T14:11:10.637538Z",
     "start_time": "2017-12-24T14:11:10.577485Z"
    },
    "solution2": "hidden"
   },
   "outputs": [
    {
     "name": "stdout",
     "output_type": "stream",
     "text": [
      "<html><body><span>7</span></body></html> 0\n"
     ]
    }
   ],
   "source": [
    "tbody = browser.find_elements_by_tag_name('tbody')[3]\n",
    "td_list = tbody.find_element_by_tag_name('tr').find_elements_by_tag_name('td')\n",
    "td = Soup(td_list[2:-1][loc].get_attribute('innerHTML'), 'lxml')\n",
    "print(td, len(td.find_all('a')))"
   ]
  },
  {
   "cell_type": "markdown",
   "metadata": {
    "solution2": "hidden"
   },
   "source": [
    "###### When page > 10"
   ]
  },
  {
   "cell_type": "code",
   "execution_count": 125,
   "metadata": {
    "ExecuteTime": {
     "end_time": "2017-12-24T14:11:13.993360Z",
     "start_time": "2017-12-24T14:11:13.990429Z"
    },
    "solution2": "hidden"
   },
   "outputs": [],
   "source": [
    "pg = 26"
   ]
  },
  {
   "cell_type": "code",
   "execution_count": 126,
   "metadata": {
    "ExecuteTime": {
     "end_time": "2017-12-24T14:11:14.723536Z",
     "start_time": "2017-12-24T14:11:14.699375Z"
    },
    "solution2": "hidden"
   },
   "outputs": [],
   "source": [
    "browser.execute_script(\"__doPostBack('ctl00$ctl00$ContentPlaceHolder1$ContentPlaceHolderInnerPage$dgTreaty','Page$%d')\"%pg)"
   ]
  },
  {
   "cell_type": "code",
   "execution_count": 127,
   "metadata": {
    "ExecuteTime": {
     "end_time": "2017-12-24T14:11:15.347764Z",
     "start_time": "2017-12-24T14:11:15.342391Z"
    },
    "solution2": "hidden"
   },
   "outputs": [
    {
     "data": {
      "text/plain": [
       "7"
      ]
     },
     "execution_count": 127,
     "metadata": {},
     "output_type": "execute_result"
    }
   ],
   "source": [
    "loc = int(pg%11) + (int(pg//11)+1)\n",
    "loc"
   ]
  },
  {
   "cell_type": "code",
   "execution_count": 128,
   "metadata": {
    "ExecuteTime": {
     "end_time": "2017-12-24T14:11:16.228600Z",
     "start_time": "2017-12-24T14:11:16.190201Z"
    },
    "solution2": "hidden"
   },
   "outputs": [
    {
     "name": "stdout",
     "output_type": "stream",
     "text": [
      "<html><body><a href=\"javascript:__doPostBack('ctl00$ctl00$ContentPlaceHolder1$ContentPlaceHolderInnerPage$dgTreaty','Page$8')\">8</a></body></html> 1\n"
     ]
    }
   ],
   "source": [
    "tbody = browser.find_elements_by_tag_name('tbody')[3]\n",
    "td_list = tbody.find_element_by_tag_name('tr').find_elements_by_tag_name('td')\n",
    "td = Soup(td_list[2:-1][loc].get_attribute('innerHTML'), 'lxml')\n",
    "print(td, len(td.find_all('a')))"
   ]
  },
  {
   "cell_type": "markdown",
   "metadata": {
    "solution2": "hidden"
   },
   "source": [
    "###### When page % 11 == 0"
   ]
  },
  {
   "cell_type": "code",
   "execution_count": 143,
   "metadata": {
    "ExecuteTime": {
     "end_time": "2017-12-24T14:12:23.574189Z",
     "start_time": "2017-12-24T14:12:23.571624Z"
    },
    "solution2": "hidden"
   },
   "outputs": [],
   "source": [
    "pg = 33"
   ]
  },
  {
   "cell_type": "code",
   "execution_count": 144,
   "metadata": {
    "ExecuteTime": {
     "end_time": "2017-12-24T14:12:24.085320Z",
     "start_time": "2017-12-24T14:12:24.065951Z"
    },
    "solution2": "hidden"
   },
   "outputs": [],
   "source": [
    "browser.execute_script(\"__doPostBack('ctl00$ctl00$ContentPlaceHolder1$ContentPlaceHolderInnerPage$dgTreaty','Page$%d')\"%pg)"
   ]
  },
  {
   "cell_type": "code",
   "execution_count": 145,
   "metadata": {
    "ExecuteTime": {
     "end_time": "2017-12-24T14:12:24.524574Z",
     "start_time": "2017-12-24T14:12:24.516771Z"
    },
    "solution2": "hidden"
   },
   "outputs": [
    {
     "data": {
      "text/plain": [
       "4"
      ]
     },
     "execution_count": 145,
     "metadata": {},
     "output_type": "execute_result"
    }
   ],
   "source": [
    "loc = int(pg%11) + (int(pg//11)+1)\n",
    "loc"
   ]
  },
  {
   "cell_type": "code",
   "execution_count": 168,
   "metadata": {
    "ExecuteTime": {
     "end_time": "2017-12-24T14:12:32.814197Z",
     "start_time": "2017-12-24T14:12:32.756326Z"
    },
    "solution2": "hidden"
   },
   "outputs": [
    {
     "name": "stdout",
     "output_type": "stream",
     "text": [
      "<html><body><span>33</span></body></html> 0\n"
     ]
    }
   ],
   "source": [
    "tbody = browser.find_elements_by_tag_name('tbody')[3]\n",
    "td_list = tbody.find_element_by_tag_name('tr').find_elements_by_tag_name('td')\n",
    "td = Soup(td_list[2:-1][loc].get_attribute('innerHTML'), 'lxml')\n",
    "print(td, len(td.find_all('a')))"
   ]
  },
  {
   "cell_type": "markdown",
   "metadata": {
    "solution2": "hidden"
   },
   "source": [
    "###### Second to last page "
   ]
  },
  {
   "cell_type": "markdown",
   "metadata": {
    "solution2": "hidden"
   },
   "source": [
    "The second to last page seem to be a bit tricky"
   ]
  },
  {
   "cell_type": "code",
   "execution_count": 26,
   "metadata": {
    "ExecuteTime": {
     "end_time": "2017-12-24T15:24:59.896255Z",
     "start_time": "2017-12-24T15:24:59.778360Z"
    },
    "solution2": "hidden"
   },
   "outputs": [],
   "source": [
    "source = Soup(browser.page_source, 'lxml')"
   ]
  },
  {
   "cell_type": "code",
   "execution_count": 27,
   "metadata": {
    "ExecuteTime": {
     "end_time": "2017-12-24T15:25:00.153220Z",
     "start_time": "2017-12-24T15:25:00.137021Z"
    },
    "solution2": "hidden"
   },
   "outputs": [
    {
     "data": {
      "text/plain": [
       "(216, 22)"
      ]
     },
     "execution_count": 27,
     "metadata": {},
     "output_type": "execute_result"
    }
   ],
   "source": [
    "result_count = int(source.find('span', class_='RecordCount').text.split(':')[-1].strip())\n",
    "result_count, result_count//10+1"
   ]
  },
  {
   "cell_type": "code",
   "execution_count": 28,
   "metadata": {
    "ExecuteTime": {
     "end_time": "2017-12-24T15:25:01.463783Z",
     "start_time": "2017-12-24T15:25:01.457740Z"
    },
    "solution2": "hidden"
   },
   "outputs": [
    {
     "data": {
      "text/plain": [
       "(22, 21)"
      ]
     },
     "execution_count": 28,
     "metadata": {},
     "output_type": "execute_result"
    }
   ],
   "source": [
    "last_page = result_count//10+1\n",
    "pg = last_page - 1\n",
    "last_page, pg"
   ]
  },
  {
   "cell_type": "code",
   "execution_count": 187,
   "metadata": {
    "ExecuteTime": {
     "end_time": "2017-12-24T14:14:51.321965Z",
     "start_time": "2017-12-24T14:14:51.317716Z"
    },
    "solution2": "hidden"
   },
   "outputs": [
    {
     "data": {
      "text/plain": [
       "10"
      ]
     },
     "execution_count": 187,
     "metadata": {},
     "output_type": "execute_result"
    }
   ],
   "source": [
    "loc = int(pg%11) + (int(pg//11) + 1)\n",
    "loc"
   ]
  },
  {
   "cell_type": "code",
   "execution_count": 188,
   "metadata": {
    "ExecuteTime": {
     "end_time": "2017-12-24T14:14:51.682188Z",
     "start_time": "2017-12-24T14:14:51.644762Z"
    },
    "solution2": "hidden"
   },
   "outputs": [],
   "source": [
    "browser.execute_script(\"__doPostBack('ctl00$ctl00$ContentPlaceHolder1$ContentPlaceHolderInnerPage$dgTreaty','Page$%d')\"%(pg))"
   ]
  },
  {
   "cell_type": "code",
   "execution_count": 189,
   "metadata": {
    "ExecuteTime": {
     "end_time": "2017-12-24T14:14:52.186856Z",
     "start_time": "2017-12-24T14:14:52.153504Z"
    },
    "solution2": "hidden"
   },
   "outputs": [],
   "source": [
    "tbody = browser.find_elements_by_tag_name('tbody')[3]\n",
    "td_list = tbody.find_element_by_tag_name('tr').find_elements_by_tag_name('td')"
   ]
  },
  {
   "cell_type": "code",
   "execution_count": 190,
   "metadata": {
    "ExecuteTime": {
     "end_time": "2017-12-24T14:14:52.637206Z",
     "start_time": "2017-12-24T14:14:52.631286Z"
    },
    "solution2": "hidden"
   },
   "outputs": [
    {
     "data": {
      "text/plain": [
       "12"
      ]
     },
     "execution_count": 190,
     "metadata": {},
     "output_type": "execute_result"
    }
   ],
   "source": [
    "len(td_list[2:-1])"
   ]
  },
  {
   "cell_type": "code",
   "execution_count": 193,
   "metadata": {
    "ExecuteTime": {
     "end_time": "2017-12-24T14:14:56.676578Z",
     "start_time": "2017-12-24T14:14:56.663953Z"
    },
    "solution2": "hidden"
   },
   "outputs": [
    {
     "name": "stdout",
     "output_type": "stream",
     "text": [
      "<html><body><span>39</span></body></html> 0\n"
     ]
    }
   ],
   "source": [
    "td = Soup(td_list[2:-1][loc].get_attribute('innerHTML'), 'lxml')\n",
    "print(td, len(td.find_all('a')))"
   ]
  },
  {
   "cell_type": "markdown",
   "metadata": {
    "solution2": "hidden"
   },
   "source": [
    "###### Last page "
   ]
  },
  {
   "cell_type": "code",
   "execution_count": 194,
   "metadata": {
    "ExecuteTime": {
     "end_time": "2017-12-24T14:14:57.179250Z",
     "start_time": "2017-12-24T14:14:57.176069Z"
    },
    "solution2": "hidden"
   },
   "outputs": [],
   "source": [
    "pg = last_page"
   ]
  },
  {
   "cell_type": "code",
   "execution_count": 195,
   "metadata": {
    "ExecuteTime": {
     "end_time": "2017-12-24T14:14:59.296138Z",
     "start_time": "2017-12-24T14:14:59.272740Z"
    },
    "solution2": "hidden"
   },
   "outputs": [],
   "source": [
    "browser.execute_script(\"__doPostBack('ctl00$ctl00$ContentPlaceHolder1$ContentPlaceHolderInnerPage$dgTreaty','Page$%d')\"%(pg))"
   ]
  },
  {
   "cell_type": "code",
   "execution_count": 196,
   "metadata": {
    "ExecuteTime": {
     "end_time": "2017-12-24T14:15:09.484652Z",
     "start_time": "2017-12-24T14:15:09.480410Z"
    },
    "solution2": "hidden"
   },
   "outputs": [
    {
     "data": {
      "text/plain": [
       "-1"
      ]
     },
     "execution_count": 196,
     "metadata": {},
     "output_type": "execute_result"
    }
   ],
   "source": [
    "loc = -1\n",
    "loc"
   ]
  },
  {
   "cell_type": "code",
   "execution_count": 197,
   "metadata": {
    "ExecuteTime": {
     "end_time": "2017-12-24T14:15:10.123525Z",
     "start_time": "2017-12-24T14:15:10.084847Z"
    },
    "solution2": "hidden"
   },
   "outputs": [],
   "source": [
    "tbody = browser.find_elements_by_tag_name('tbody')[3]\n",
    "td_list = tbody.find_element_by_tag_name('tr').find_elements_by_tag_name('td')"
   ]
  },
  {
   "cell_type": "code",
   "execution_count": 198,
   "metadata": {
    "ExecuteTime": {
     "end_time": "2017-12-24T14:15:11.533855Z",
     "start_time": "2017-12-24T14:15:11.529610Z"
    },
    "solution2": "hidden"
   },
   "outputs": [
    {
     "data": {
      "text/plain": [
       "12"
      ]
     },
     "execution_count": 198,
     "metadata": {},
     "output_type": "execute_result"
    }
   ],
   "source": [
    "len(td_list[2:-1])"
   ]
  },
  {
   "cell_type": "code",
   "execution_count": 199,
   "metadata": {
    "ExecuteTime": {
     "end_time": "2017-12-24T14:15:14.635960Z",
     "start_time": "2017-12-24T14:15:14.553221Z"
    },
    "solution2": "hidden"
   },
   "outputs": [
    {
     "name": "stdout",
     "output_type": "stream",
     "text": [
      "<input type=\"image\" src=\"../Images/Paging/first-btn.jpg\" onclick=\"javascript:__doPostBack('ctl00$ctl00$ContentPlaceHolder1$ContentPlaceHolderInnerPage$dgTreaty','Page$First');return false;\" style=\"border-width:0px;\">\n",
      "<a href=\"javascript:__doPostBack('ctl00$ctl00$ContentPlaceHolder1$ContentPlaceHolderInnerPage$dgTreaty','Page$30')\">...</a>\n",
      "<a href=\"javascript:__doPostBack('ctl00$ctl00$ContentPlaceHolder1$ContentPlaceHolderInnerPage$dgTreaty','Page$31')\">31</a>\n",
      "<a href=\"javascript:__doPostBack('ctl00$ctl00$ContentPlaceHolder1$ContentPlaceHolderInnerPage$dgTreaty','Page$32')\">32</a>\n",
      "<a href=\"javascript:__doPostBack('ctl00$ctl00$ContentPlaceHolder1$ContentPlaceHolderInnerPage$dgTreaty','Page$33')\">33</a>\n",
      "<a href=\"javascript:__doPostBack('ctl00$ctl00$ContentPlaceHolder1$ContentPlaceHolderInnerPage$dgTreaty','Page$34')\">34</a>\n",
      "<a href=\"javascript:__doPostBack('ctl00$ctl00$ContentPlaceHolder1$ContentPlaceHolderInnerPage$dgTreaty','Page$35')\">35</a>\n",
      "<a href=\"javascript:__doPostBack('ctl00$ctl00$ContentPlaceHolder1$ContentPlaceHolderInnerPage$dgTreaty','Page$36')\">36</a>\n",
      "<a href=\"javascript:__doPostBack('ctl00$ctl00$ContentPlaceHolder1$ContentPlaceHolderInnerPage$dgTreaty','Page$37')\">37</a>\n",
      "<a href=\"javascript:__doPostBack('ctl00$ctl00$ContentPlaceHolder1$ContentPlaceHolderInnerPage$dgTreaty','Page$38')\">38</a>\n",
      "<a href=\"javascript:__doPostBack('ctl00$ctl00$ContentPlaceHolder1$ContentPlaceHolderInnerPage$dgTreaty','Page$39')\">39</a>\n",
      "<span>40</span>\n"
     ]
    }
   ],
   "source": [
    "for td in td_list[2:-1]:\n",
    "    print(td.get_attribute('innerHTML'))"
   ]
  },
  {
   "cell_type": "code",
   "execution_count": 201,
   "metadata": {
    "ExecuteTime": {
     "end_time": "2017-12-24T14:15:17.508309Z",
     "start_time": "2017-12-24T14:15:17.497081Z"
    },
    "solution2": "hidden"
   },
   "outputs": [
    {
     "name": "stdout",
     "output_type": "stream",
     "text": [
      "<html><body><span>40</span></body></html> 0\n"
     ]
    }
   ],
   "source": [
    "td = Soup(td_list[2:-1][loc].get_attribute('innerHTML'), 'lxml')\n",
    "print(td, len(td.find_all('a')))"
   ]
  },
  {
   "cell_type": "markdown",
   "metadata": {},
   "source": [
    "##### Test iterate thru"
   ]
  },
  {
   "cell_type": "code",
   "execution_count": 36,
   "metadata": {
    "ExecuteTime": {
     "end_time": "2017-12-24T15:44:02.460530Z",
     "start_time": "2017-12-24T15:44:02.456707Z"
    }
   },
   "outputs": [],
   "source": [
    "df = pd.DataFrame(columns=column_names)"
   ]
  },
  {
   "cell_type": "code",
   "execution_count": 59,
   "metadata": {
    "ExecuteTime": {
     "end_time": "2017-12-24T15:53:21.340890Z",
     "start_time": "2017-12-24T15:53:21.327779Z"
    }
   },
   "outputs": [],
   "source": [
    "pg = 7\n",
    "browser.execute_script(\"__doPostBack('ctl00$ctl00$ContentPlaceHolder1$ContentPlaceHolderInnerPage$dgTreaty','Page$%d')\"%pg)"
   ]
  },
  {
   "cell_type": "code",
   "execution_count": 61,
   "metadata": {
    "ExecuteTime": {
     "end_time": "2017-12-24T15:53:54.310634Z",
     "start_time": "2017-12-24T15:53:54.308071Z"
    }
   },
   "outputs": [],
   "source": [
    "pg = 20"
   ]
  },
  {
   "cell_type": "code",
   "execution_count": 62,
   "metadata": {
    "ExecuteTime": {
     "end_time": "2017-12-24T15:53:59.407765Z",
     "start_time": "2017-12-24T15:53:55.074137Z"
    }
   },
   "outputs": [
    {
     "name": "stdout",
     "output_type": "stream",
     "text": [
      "20 90\n"
     ]
    }
   ],
   "source": [
    "browser.execute_script(\"__doPostBack('ctl00$ctl00$ContentPlaceHolder1$ContentPlaceHolderInnerPage$dgTreaty','Page$%d')\"%pg)\n",
    "if pg > 10:\n",
    "    loc = int(pg%11) + (int(pg//11)+1)\n",
    "else:\n",
    "    loc = int(pg%11) - 1\n",
    "txt_ = \"<span>%d</span>\"%(pg)\n",
    "while True:\n",
    "    tbody = browser.find_elements_by_tag_name('tbody')[3]\n",
    "    try:\n",
    "        td_text = [td.get_attribute('innerHTML') for td in tbody.find_element_by_tag_name('tr').find_elements_by_tag_name('td')]\n",
    "    except:\n",
    "        continue\n",
    "    if txt_ in td_text:\n",
    "        break\n",
    "#time.sleep(pd.np.random.randint(2, 5))\n",
    "tab = browser.find_element_by_id('ctl00_ctl00_ContentPlaceHolder1_ContentPlaceHolderInnerPage_dgTreaty')\n",
    "tab_html = tab.get_attribute('innerHTML')\n",
    "source = Soup(tab_html, 'lxml')\n",
    "tbody = source.find('tbody')\n",
    "tr_list = tbody.find_all('tr')[3:-2]\n",
    "df = df.append(parse_page(tr_list), ignore_index=True)\n",
    "print(pg, df.shape[0])\n",
    "#time.sleep(pd.np.random.randint(6, 15))\n",
    "pg += 1"
   ]
  },
  {
   "cell_type": "code",
   "execution_count": null,
   "metadata": {
    "ExecuteTime": {
     "start_time": "2017-12-24T15:36:07.573Z"
    }
   },
   "outputs": [
    {
     "name": "stdout",
     "output_type": "stream",
     "text": [
      "<html><body><a href=\"javascript:__doPostBack('ctl00$ctl00$ContentPlaceHolder1$ContentPlaceHolderInnerPage$dgTreaty','Page$21')\">...</a></body></html> 1\n",
      "<html><body><a href=\"javascript:__doPostBack('ctl00$ctl00$ContentPlaceHolder1$ContentPlaceHolderInnerPage$dgTreaty','Page$21')\">...</a></body></html> 1\n",
      "<html><body><a href=\"javascript:__doPostBack('ctl00$ctl00$ContentPlaceHolder1$ContentPlaceHolderInnerPage$dgTreaty','Page$21')\">...</a></body></html> 1\n"
     ]
    }
   ],
   "source": [
    "browser.execute_script(\"__doPostBack('ctl00$ctl00$ContentPlaceHolder1$ContentPlaceHolderInnerPage$dgTreaty','Page$%d')\"%pg)\n",
    "if pg > 10:\n",
    "    loc = int(pg%11) + (int(pg//11)+1)\n",
    "else:\n",
    "    loc = int(pg%11) - 1\n",
    "while True:\n",
    "    try:\n",
    "        tbody = browser.find_elements_by_tag_name('tbody')[3]\n",
    "        td_list = tbody.find_element_by_tag_name('tr').find_elements_by_tag_name('td')\n",
    "        td = Soup(td_list[2:-1][loc].get_attribute('innerHTML'), 'lxml')\n",
    "        print(td, len(td.find_all('a')))\n",
    "        time.sleep(pd.np.random.randint(2, 5))\n",
    "        if len(td.find_all('a')) < 1:\n",
    "            break \n",
    "    except:\n",
    "        continue\n",
    "tab = browser.find_element_by_id('ctl00_ctl00_ContentPlaceHolder1_ContentPlaceHolderInnerPage_dgTreaty')\n",
    "tab_html = tab.get_attribute('innerHTML')\n",
    "source = Soup(tab_html, 'lxml')\n",
    "tbody = source.find('tbody')\n",
    "tr_list = tbody.find_all('tr')[3:-2]\n",
    "df = df.append(parse_page(tr_list), ignore_index=True)\n",
    "print(pg, df.shape[0])\n",
    "#time.sleep(pd.np.random.randint(6, 15))\n",
    "pg += 1"
   ]
  },
  {
   "cell_type": "code",
   "execution_count": null,
   "metadata": {
    "ExecuteTime": {
     "end_time": "2017-12-24T09:54:43.445399Z",
     "start_time": "2017-12-24T09:54:43.396265Z"
    }
   },
   "outputs": [],
   "source": [
    "df"
   ]
  },
  {
   "cell_type": "code",
   "execution_count": 63,
   "metadata": {
    "ExecuteTime": {
     "end_time": "2017-12-24T15:56:26.265210Z",
     "start_time": "2017-12-24T15:56:26.006943Z"
    }
   },
   "outputs": [],
   "source": [
    "browser.close()"
   ]
  },
  {
   "cell_type": "markdown",
   "metadata": {},
   "source": [
    "---"
   ]
  },
  {
   "cell_type": "markdown",
   "metadata": {},
   "source": [
    "#### Run"
   ]
  },
  {
   "cell_type": "code",
   "execution_count": 72,
   "metadata": {
    "ExecuteTime": {
     "end_time": "2017-12-24T18:04:12.357965Z",
     "start_time": "2017-12-24T18:04:12.354305Z"
    }
   },
   "outputs": [],
   "source": [
    "yyyy = 2020\n",
    "interv = 20"
   ]
  },
  {
   "cell_type": "code",
   "execution_count": 73,
   "metadata": {
    "ExecuteTime": {
     "end_time": "2017-12-24T18:04:12.903805Z",
     "start_time": "2017-12-24T18:04:12.886950Z"
    }
   },
   "outputs": [
    {
     "name": "stdout",
     "output_type": "stream",
     "text": [
      "01/01/2020 31/12/2040\n"
     ]
    },
    {
     "data": {
      "text/plain": [
       "('\\ue01a\\ue01b/\\ue01a\\ue01b/\\ue01c\\ue01a\\ue01c\\ue01a',\n",
       " '\\ue01d\\ue01b/\\ue01b\\ue01c/\\ue01c\\ue01a\\ue01e\\ue01a')"
      ]
     },
     "execution_count": 73,
     "metadata": {},
     "output_type": "execute_result"
    }
   ],
   "source": [
    "from_text = '01/01/%s'%yyyy\n",
    "to_text = '31/12/%s'%(yyyy+interv)\n",
    "print(from_text, to_text)\n",
    "from_text = replace_digit(from_text)\n",
    "to_text = replace_digit(to_text)\n",
    "from_text, to_text"
   ]
  },
  {
   "cell_type": "code",
   "execution_count": 74,
   "metadata": {
    "ExecuteTime": {
     "end_time": "2017-12-24T18:04:16.784728Z",
     "start_time": "2017-12-24T18:04:14.460889Z"
    }
   },
   "outputs": [],
   "source": [
    "browser = webdriver.Chrome()\n",
    "url = 'https://treaties.un.org/Pages/AdvanceSearch.aspx?tab=UNTS&clang=_en'"
   ]
  },
  {
   "cell_type": "code",
   "execution_count": 75,
   "metadata": {
    "ExecuteTime": {
     "end_time": "2017-12-24T18:04:58.409158Z",
     "start_time": "2017-12-24T18:04:16.789239Z"
    }
   },
   "outputs": [],
   "source": [
    "browser.get(url)"
   ]
  },
  {
   "cell_type": "code",
   "execution_count": 77,
   "metadata": {
    "ExecuteTime": {
     "end_time": "2017-12-24T18:05:07.210826Z",
     "start_time": "2017-12-24T18:05:05.432919Z"
    }
   },
   "outputs": [],
   "source": [
    "select = Select(browser.find_element_by_name('ctl00$ctl00$ContentPlaceHolder1$ContentPlaceHolderInnerPage$drpSearchObj'))\n",
    "select.select_by_visible_text('Treaty')\n",
    "browser.find_element_by_id('ctl00_ctl00_ContentPlaceHolder1_ContentPlaceHolderInnerPage_rdbtreaty_2').click()"
   ]
  },
  {
   "cell_type": "code",
   "execution_count": 78,
   "metadata": {
    "ExecuteTime": {
     "end_time": "2017-12-24T18:05:41.071279Z",
     "start_time": "2017-12-24T18:05:39.234800Z"
    }
   },
   "outputs": [],
   "source": [
    "select = Select(browser.find_element_by_name('ctl00$ctl00$ContentPlaceHolder1$ContentPlaceHolderInnerPage$drpAttribute'))\n",
    "select.select_by_index(20)"
   ]
  },
  {
   "cell_type": "code",
   "execution_count": 79,
   "metadata": {
    "ExecuteTime": {
     "end_time": "2017-12-24T18:05:45.953079Z",
     "start_time": "2017-12-24T18:05:41.988196Z"
    }
   },
   "outputs": [],
   "source": [
    "browser.find_element_by_name('ctl00$ctl00$ContentPlaceHolder1$ContentPlaceHolderInnerPage$chkboxValues$2').click()\n",
    "browser.find_element_by_name('ctl00$ctl00$ContentPlaceHolder1$ContentPlaceHolderInnerPage$Adv_srch2').click()\n",
    "browser.find_element_by_name('ctl00$ctl00$ContentPlaceHolder1$ContentPlaceHolderInnerPage$btnAdd').send_keys(Keys.SPACE)"
   ]
  },
  {
   "cell_type": "code",
   "execution_count": 80,
   "metadata": {
    "ExecuteTime": {
     "end_time": "2017-12-24T18:05:47.486312Z",
     "start_time": "2017-12-24T18:05:47.400300Z"
    }
   },
   "outputs": [],
   "source": [
    "select = Select(browser.find_element_by_name('ctl00$ctl00$ContentPlaceHolder1$ContentPlaceHolderInnerPage$drpAttribute'))\n",
    "select.select_by_visible_text('Date of Registration')"
   ]
  },
  {
   "cell_type": "code",
   "execution_count": 81,
   "metadata": {
    "ExecuteTime": {
     "end_time": "2017-12-24T18:05:50.181588Z",
     "start_time": "2017-12-24T18:05:49.801996Z"
    }
   },
   "outputs": [
    {
     "data": {
      "text/plain": [
       "'31/12/2040'"
      ]
     },
     "execution_count": 81,
     "metadata": {},
     "output_type": "execute_result"
    }
   ],
   "source": [
    "from_field = browser.find_element_by_name('ctl00$ctl00$ContentPlaceHolder1$ContentPlaceHolderInnerPage$txtFrom')\n",
    "from_field.send_keys(Keys.SPACE)\n",
    "from_field.clear()\n",
    "from_field.send_keys(from_text)\n",
    "\n",
    "to_field = browser.find_element_by_name('ctl00$ctl00$ContentPlaceHolder1$ContentPlaceHolderInnerPage$txtTo')\n",
    "to_field.send_keys(Keys.SPACE)\n",
    "to_field.clear()\n",
    "to_field.send_keys(to_text)\n",
    "to_field.get_attribute('value')"
   ]
  },
  {
   "cell_type": "code",
   "execution_count": 82,
   "metadata": {
    "ExecuteTime": {
     "end_time": "2017-12-24T18:05:53.492719Z",
     "start_time": "2017-12-24T18:05:53.442144Z"
    }
   },
   "outputs": [],
   "source": [
    "browser.find_element_by_name('ctl00$ctl00$ContentPlaceHolder1$ContentPlaceHolderInnerPage$btnAdd').send_keys(Keys.SPACE)"
   ]
  },
  {
   "cell_type": "code",
   "execution_count": 83,
   "metadata": {
    "ExecuteTime": {
     "end_time": "2017-12-24T18:05:55.872951Z",
     "start_time": "2017-12-24T18:05:55.819532Z"
    }
   },
   "outputs": [],
   "source": [
    "browser.find_element_by_name('ctl00$ctl00$ContentPlaceHolder1$ContentPlaceHolderInnerPage$btnSubmit').send_keys(Keys.SPACE)"
   ]
  },
  {
   "cell_type": "markdown",
   "metadata": {},
   "source": [
    "Run the actual scraping"
   ]
  },
  {
   "cell_type": "code",
   "execution_count": 63,
   "metadata": {
    "ExecuteTime": {
     "end_time": "2017-12-24T17:56:39.923838Z",
     "start_time": "2017-12-24T17:56:39.918610Z"
    }
   },
   "outputs": [],
   "source": [
    "column_names = ['href', 'title', 'reg_num', 'reg_date', 'type', 'con_date', 'vol']\n",
    "base_url = 'https://treaties.un.org'"
   ]
  },
  {
   "cell_type": "code",
   "execution_count": 64,
   "metadata": {
    "ExecuteTime": {
     "end_time": "2017-12-24T17:56:44.819158Z",
     "start_time": "2017-12-24T17:56:44.707018Z"
    }
   },
   "outputs": [],
   "source": [
    "source = Soup(browser.page_source, 'lxml')"
   ]
  },
  {
   "cell_type": "code",
   "execution_count": 65,
   "metadata": {
    "ExecuteTime": {
     "end_time": "2017-12-24T17:56:46.656231Z",
     "start_time": "2017-12-24T17:56:46.644894Z"
    }
   },
   "outputs": [
    {
     "data": {
      "text/plain": [
       "(354, 35.4, 36.0)"
      ]
     },
     "execution_count": 65,
     "metadata": {},
     "output_type": "execute_result"
    }
   ],
   "source": [
    "result_count = int(source.find('span', class_='RecordCount').text.split(':')[-1].strip())\n",
    "result_count, result_count/10, pd.np.ceil(result_count/10)"
   ]
  },
  {
   "cell_type": "code",
   "execution_count": 66,
   "metadata": {
    "ExecuteTime": {
     "end_time": "2017-12-24T17:56:48.953441Z",
     "start_time": "2017-12-24T17:56:48.944465Z"
    }
   },
   "outputs": [],
   "source": [
    "df = pd.DataFrame(columns=column_names)"
   ]
  },
  {
   "cell_type": "code",
   "execution_count": 67,
   "metadata": {
    "ExecuteTime": {
     "end_time": "2017-12-24T18:02:34.505925Z",
     "start_time": "2017-12-24T17:56:58.720139Z"
    }
   },
   "outputs": [
    {
     "name": "stdout",
     "output_type": "stream",
     "text": [
      "2 10\n",
      "3 20\n",
      "4 30\n",
      "5 40\n",
      "6 50\n",
      "7 60\n",
      "8 70\n",
      "9 80\n",
      "10 90\n",
      "11 100\n",
      "12 110\n",
      "13 120\n",
      "14 130\n",
      "15 140\n",
      "16 150\n",
      "17 160\n",
      "18 170\n",
      "19 180\n",
      "20 190\n",
      "21 200\n",
      "22 210\n",
      "23 220\n",
      "24 230\n",
      "25 240\n",
      "26 250\n",
      "27 260\n",
      "28 270\n",
      "29 280\n",
      "30 290\n",
      "31 300\n",
      "32 310\n",
      "33 320\n",
      "34 330\n",
      "35 340\n",
      "36 344\n",
      "1 354\n"
     ]
    }
   ],
   "source": [
    "#for pg in list(range(2, result_count//10+2)) + [1]:\n",
    "for pg in list(range(2, int(pd.np.ceil(result_count/10))+1)) + [1]:\n",
    "#for pg in list(range(21, result_count//10+2)) + [1]:\n",
    "    browser.execute_script(\"__doPostBack('ctl00$ctl00$ContentPlaceHolder1$ContentPlaceHolderInnerPage$dgTreaty','Page$%d')\"%pg)\n",
    "    if pg > 10:\n",
    "        loc = int(pg%11) + (int(pg//11)+1)\n",
    "    elif pg == result_count//10+1:\n",
    "        loc = -1\n",
    "    else:\n",
    "        loc = int(pg%11) - 1\n",
    "    txt_ = \"<span>%d</span>\"%(pg)\n",
    "    while True:\n",
    "        try:\n",
    "            tbody = browser.find_elements_by_tag_name('tbody')[3]\n",
    "            td_text = [td.get_attribute('innerHTML') for td in tbody.find_element_by_tag_name('tr').find_elements_by_tag_name('td')]\n",
    "        except:\n",
    "            continue\n",
    "        if txt_ in td_text:\n",
    "            break\n",
    "    tab = browser.find_element_by_id('ctl00_ctl00_ContentPlaceHolder1_ContentPlaceHolderInnerPage_dgTreaty')\n",
    "    tab_html = tab.get_attribute('innerHTML')\n",
    "    source = Soup(tab_html, 'lxml')\n",
    "    tbody = source.find('tbody')\n",
    "    tr_list = tbody.find_all('tr')[3:-2]\n",
    "    df = df.append(parse_page(tr_list), ignore_index=True)\n",
    "    print(pg, df.shape[0])\n",
    "    time.sleep(pd.np.random.randint(2, 6)+pd.np.random.random())"
   ]
  },
  {
   "cell_type": "code",
   "execution_count": 68,
   "metadata": {
    "ExecuteTime": {
     "end_time": "2017-12-24T18:03:26.973501Z",
     "start_time": "2017-12-24T18:03:26.965670Z"
    }
   },
   "outputs": [
    {
     "data": {
      "text/plain": [
       "(354, 7)"
      ]
     },
     "execution_count": 68,
     "metadata": {},
     "output_type": "execute_result"
    }
   ],
   "source": [
    "df.shape"
   ]
  },
  {
   "cell_type": "code",
   "execution_count": 69,
   "metadata": {
    "ExecuteTime": {
     "end_time": "2017-12-24T18:03:31.415792Z",
     "start_time": "2017-12-24T18:03:31.411761Z"
    }
   },
   "outputs": [
    {
     "data": {
      "text/plain": [
       "(1999, 2019)"
      ]
     },
     "execution_count": 69,
     "metadata": {},
     "output_type": "execute_result"
    }
   ],
   "source": [
    "yyyy, yyyy+interv"
   ]
  },
  {
   "cell_type": "code",
   "execution_count": 70,
   "metadata": {
    "ExecuteTime": {
     "end_time": "2017-12-24T18:03:33.437765Z",
     "start_time": "2017-12-24T18:03:33.425423Z"
    }
   },
   "outputs": [],
   "source": [
    "df.to_csv('./data/UNTC-%i-%i.csv'%(yyyy, yyyy+interv), index=False)"
   ]
  },
  {
   "cell_type": "code",
   "execution_count": 71,
   "metadata": {
    "ExecuteTime": {
     "end_time": "2017-12-24T18:03:57.947717Z",
     "start_time": "2017-12-24T18:03:57.810855Z"
    }
   },
   "outputs": [],
   "source": [
    "browser.close()"
   ]
  }
 ],
 "metadata": {
  "kernelspec": {
   "display_name": "Python 3",
   "language": "python",
   "name": "python3"
  },
  "language_info": {
   "codemirror_mode": {
    "name": "ipython",
    "version": 3
   },
   "file_extension": ".py",
   "mimetype": "text/x-python",
   "name": "python",
   "nbconvert_exporter": "python",
   "pygments_lexer": "ipython3",
   "version": "3.6.3"
  },
  "toc": {
   "nav_menu": {},
   "number_sections": true,
   "sideBar": true,
   "skip_h1_title": false,
   "toc_cell": false,
   "toc_position": {
    "height": "836px",
    "left": "0px",
    "right": "1468px",
    "top": "113px",
    "width": "212px"
   },
   "toc_section_display": "block",
   "toc_window_display": true
  }
 },
 "nbformat": 4,
 "nbformat_minor": 2
}
