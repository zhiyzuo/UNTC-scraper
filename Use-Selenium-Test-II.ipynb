{
 "cells": [
  {
   "cell_type": "markdown",
   "metadata": {},
   "source": [
    "Use `selenium` to scrape UNTC"
   ]
  },
  {
   "cell_type": "markdown",
   "metadata": {},
   "source": [
    "11-17-2017."
   ]
  },
  {
   "cell_type": "markdown",
   "metadata": {},
   "source": [
    "---"
   ]
  },
  {
   "cell_type": "code",
   "execution_count": 1,
   "metadata": {
    "ExecuteTime": {
     "end_time": "2017-12-24T00:30:43.221252Z",
     "start_time": "2017-12-24T00:30:43.218200Z"
    }
   },
   "outputs": [],
   "source": [
    "import time"
   ]
  },
  {
   "cell_type": "code",
   "execution_count": 2,
   "metadata": {
    "ExecuteTime": {
     "end_time": "2017-12-24T00:30:43.588071Z",
     "start_time": "2017-12-24T00:30:43.516812Z"
    }
   },
   "outputs": [],
   "source": [
    "from selenium.webdriver.common.keys import Keys"
   ]
  },
  {
   "cell_type": "markdown",
   "metadata": {},
   "source": [
    "Set date"
   ]
  },
  {
   "cell_type": "code",
   "execution_count": 3,
   "metadata": {
    "ExecuteTime": {
     "end_time": "2017-12-24T00:30:44.866371Z",
     "start_time": "2017-12-24T00:30:44.863613Z"
    }
   },
   "outputs": [],
   "source": [
    "yyyy = 1945"
   ]
  },
  {
   "cell_type": "code",
   "execution_count": 4,
   "metadata": {
    "ExecuteTime": {
     "end_time": "2017-12-24T00:30:49.638476Z",
     "start_time": "2017-12-24T00:30:49.634933Z"
    }
   },
   "outputs": [],
   "source": [
    "from_text = '01/01/%s'%yyyy\n",
    "to_text = '12/31/%s'%(yyyy+20)"
   ]
  },
  {
   "cell_type": "code",
   "execution_count": 5,
   "metadata": {
    "ExecuteTime": {
     "end_time": "2017-12-24T00:30:51.046549Z",
     "start_time": "2017-12-24T00:30:51.033474Z"
    }
   },
   "outputs": [
    {
     "data": {
      "text/plain": [
       "('01/01/1945', '12/31/1965')"
      ]
     },
     "execution_count": 5,
     "metadata": {},
     "output_type": "execute_result"
    }
   ],
   "source": [
    "from_text, to_text"
   ]
  },
  {
   "cell_type": "markdown",
   "metadata": {},
   "source": [
    "---"
   ]
  },
  {
   "cell_type": "code",
   "execution_count": 35,
   "metadata": {
    "ExecuteTime": {
     "end_time": "2017-12-24T00:33:47.752934Z",
     "start_time": "2017-12-24T00:33:29.748474Z"
    }
   },
   "outputs": [],
   "source": [
    "from selenium import webdriver\n",
    "browser = webdriver.Chrome()\n",
    "url = 'https://treaties.un.org/Pages/AdvanceSearch.aspx?tab=UNTS&clang=_en'\n",
    "browser.get(url)"
   ]
  },
  {
   "cell_type": "markdown",
   "metadata": {},
   "source": [
    "#### Criteria"
   ]
  },
  {
   "cell_type": "markdown",
   "metadata": {},
   "source": [
    "##### Search Treaty"
   ]
  },
  {
   "cell_type": "markdown",
   "metadata": {},
   "source": [
    "https://stackoverflow.com/questions/7867537/selenium-python-drop-down-menu-option-value"
   ]
  },
  {
   "cell_type": "code",
   "execution_count": 36,
   "metadata": {
    "ExecuteTime": {
     "end_time": "2017-12-24T00:33:49.450586Z",
     "start_time": "2017-12-24T00:33:47.759242Z"
    }
   },
   "outputs": [],
   "source": [
    "from selenium.webdriver.support.ui import Select\n",
    "select = Select(browser.find_element_by_name('ctl00$ctl00$ContentPlaceHolder1$ContentPlaceHolderInnerPage$drpSearchObj'))\n",
    "select.select_by_visible_text('Treaty')"
   ]
  },
  {
   "cell_type": "markdown",
   "metadata": {},
   "source": [
    "###### Select \"Show Only Original Agreement\""
   ]
  },
  {
   "cell_type": "code",
   "execution_count": 57,
   "metadata": {
    "ExecuteTime": {
     "end_time": "2017-12-24T00:35:14.476025Z",
     "start_time": "2017-12-24T00:35:13.702018Z"
    }
   },
   "outputs": [],
   "source": [
    "browser.find_element_by_id('ctl00_ctl00_ContentPlaceHolder1_ContentPlaceHolderInnerPage_rdbtreaty_2').click()"
   ]
  },
  {
   "cell_type": "markdown",
   "metadata": {},
   "source": [
    "##### Select filter by: Treaty type"
   ]
  },
  {
   "cell_type": "code",
   "execution_count": 58,
   "metadata": {
    "ExecuteTime": {
     "end_time": "2017-12-24T00:35:27.483771Z",
     "start_time": "2017-12-24T00:35:27.452437Z"
    }
   },
   "outputs": [],
   "source": [
    "select = Select(browser.find_element_by_name('ctl00$ctl00$ContentPlaceHolder1$ContentPlaceHolderInnerPage$drpAttribute'))"
   ]
  },
  {
   "cell_type": "code",
   "execution_count": 59,
   "metadata": {
    "ExecuteTime": {
     "end_time": "2017-12-24T00:35:28.371577Z",
     "start_time": "2017-12-24T00:35:28.097154Z"
    }
   },
   "outputs": [],
   "source": [
    "select.select_by_index(20)"
   ]
  },
  {
   "cell_type": "markdown",
   "metadata": {},
   "source": [
    "###### Select \"Open Multilateral\""
   ]
  },
  {
   "cell_type": "code",
   "execution_count": 60,
   "metadata": {
    "ExecuteTime": {
     "end_time": "2017-12-24T00:35:30.776126Z",
     "start_time": "2017-12-24T00:35:29.246037Z"
    }
   },
   "outputs": [],
   "source": [
    "browser.find_element_by_name('ctl00$ctl00$ContentPlaceHolder1$ContentPlaceHolderInnerPage$chkboxValues$2').click()"
   ]
  },
  {
   "cell_type": "markdown",
   "metadata": {},
   "source": [
    "###### Match all these values"
   ]
  },
  {
   "cell_type": "code",
   "execution_count": 61,
   "metadata": {
    "ExecuteTime": {
     "end_time": "2017-12-24T00:35:40.032204Z",
     "start_time": "2017-12-24T00:35:34.291408Z"
    }
   },
   "outputs": [],
   "source": [
    "browser.find_element_by_name('ctl00$ctl00$ContentPlaceHolder1$ContentPlaceHolderInnerPage$Adv_srch2').click()"
   ]
  },
  {
   "cell_type": "markdown",
   "metadata": {},
   "source": [
    "###### Add to criteria button"
   ]
  },
  {
   "cell_type": "code",
   "execution_count": 62,
   "metadata": {
    "ExecuteTime": {
     "end_time": "2017-12-24T00:35:40.098508Z",
     "start_time": "2017-12-24T00:35:40.034443Z"
    }
   },
   "outputs": [],
   "source": [
    "browser.find_element_by_name('ctl00$ctl00$ContentPlaceHolder1$ContentPlaceHolderInnerPage$btnAdd').send_keys(Keys.SPACE)"
   ]
  },
  {
   "cell_type": "markdown",
   "metadata": {},
   "source": [
    "##### Set date"
   ]
  },
  {
   "cell_type": "code",
   "execution_count": 63,
   "metadata": {
    "ExecuteTime": {
     "end_time": "2017-12-24T00:35:40.127856Z",
     "start_time": "2017-12-24T00:35:40.100759Z"
    }
   },
   "outputs": [],
   "source": [
    "select = Select(browser.find_element_by_name('ctl00$ctl00$ContentPlaceHolder1$ContentPlaceHolderInnerPage$drpAttribute'))"
   ]
  },
  {
   "cell_type": "code",
   "execution_count": 64,
   "metadata": {
    "ExecuteTime": {
     "end_time": "2017-12-24T00:35:40.210235Z",
     "start_time": "2017-12-24T00:35:40.130439Z"
    }
   },
   "outputs": [],
   "source": [
    "select.select_by_visible_text('Date of Registration')"
   ]
  },
  {
   "cell_type": "markdown",
   "metadata": {},
   "source": [
    "###### From and end date"
   ]
  },
  {
   "cell_type": "markdown",
   "metadata": {},
   "source": [
    "https://stackoverflow.com/questions/39520708/using-selenium-on-calendar-date-picker"
   ]
  },
  {
   "cell_type": "code",
   "execution_count": 65,
   "metadata": {
    "ExecuteTime": {
     "end_time": "2017-12-24T00:35:40.217436Z",
     "start_time": "2017-12-24T00:35:40.212873Z"
    }
   },
   "outputs": [],
   "source": [
    "from selenium.webdriver.common.keys import Keys"
   ]
  },
  {
   "cell_type": "code",
   "execution_count": 66,
   "metadata": {
    "ExecuteTime": {
     "end_time": "2017-12-24T00:35:40.229771Z",
     "start_time": "2017-12-24T00:35:40.220066Z"
    }
   },
   "outputs": [],
   "source": [
    "if '3' in str(from_text):\n",
    "    from_text = from_text.replace('3', Keys.NUMPAD3)\n",
    "if '3' in str(to_text):\n",
    "    to_text = to_text.replace('3', Keys.NUMPAD3)"
   ]
  },
  {
   "cell_type": "code",
   "execution_count": 69,
   "metadata": {
    "ExecuteTime": {
     "end_time": "2017-12-24T00:35:48.273936Z",
     "start_time": "2017-12-24T00:35:48.269668Z"
    }
   },
   "outputs": [
    {
     "name": "stdout",
     "output_type": "stream",
     "text": [
      "01/01/1945 12/1/1965\n"
     ]
    }
   ],
   "source": [
    "print(from_text, to_text)"
   ]
  },
  {
   "cell_type": "code",
   "execution_count": 89,
   "metadata": {
    "ExecuteTime": {
     "end_time": "2017-12-24T00:38:46.919927Z",
     "start_time": "2017-12-24T00:38:46.720590Z"
    }
   },
   "outputs": [],
   "source": [
    "from_field = browser.find_element_by_name('ctl00$ctl00$ContentPlaceHolder1$ContentPlaceHolderInnerPage$txtFrom')\n",
    "from_field.send_keys(Keys.SPACE)\n",
    "from_field.clear()\n",
    "from_field.send_keys(from_text)"
   ]
  },
  {
   "cell_type": "code",
   "execution_count": 90,
   "metadata": {
    "ExecuteTime": {
     "end_time": "2017-12-24T00:38:47.397683Z",
     "start_time": "2017-12-24T00:38:47.373068Z"
    }
   },
   "outputs": [
    {
     "data": {
      "text/plain": [
       "'01/01/1945'"
      ]
     },
     "execution_count": 90,
     "metadata": {},
     "output_type": "execute_result"
    }
   ],
   "source": [
    "from_field.get_attribute('value')"
   ]
  },
  {
   "cell_type": "code",
   "execution_count": 91,
   "metadata": {
    "ExecuteTime": {
     "end_time": "2017-12-24T00:38:48.041565Z",
     "start_time": "2017-12-24T00:38:47.912039Z"
    }
   },
   "outputs": [],
   "source": [
    "to_field = browser.find_element_by_name('ctl00$ctl00$ContentPlaceHolder1$ContentPlaceHolderInnerPage$txtTo')\n",
    "to_field.send_keys(Keys.SPACE)\n",
    "to_field.clear()\n",
    "to_field.send_keys(to_text)\n",
    "#to_field.send_keys(Keys.ENTER)"
   ]
  },
  {
   "cell_type": "code",
   "execution_count": 92,
   "metadata": {
    "ExecuteTime": {
     "end_time": "2017-12-24T00:38:48.415906Z",
     "start_time": "2017-12-24T00:38:48.394535Z"
    }
   },
   "outputs": [
    {
     "data": {
      "text/plain": [
       "'12/31/1965'"
      ]
     },
     "execution_count": 92,
     "metadata": {},
     "output_type": "execute_result"
    }
   ],
   "source": [
    "to_field.get_attribute('value')"
   ]
  },
  {
   "cell_type": "code",
   "execution_count": 93,
   "metadata": {
    "ExecuteTime": {
     "end_time": "2017-12-24T00:38:49.008220Z",
     "start_time": "2017-12-24T00:38:48.935473Z"
    }
   },
   "outputs": [],
   "source": [
    "browser.find_element_by_name('ctl00$ctl00$ContentPlaceHolder1$ContentPlaceHolderInnerPage$btnAdd').send_keys(Keys.SPACE)"
   ]
  },
  {
   "cell_type": "markdown",
   "metadata": {},
   "source": [
    "##### Search button"
   ]
  },
  {
   "cell_type": "code",
   "execution_count": 33,
   "metadata": {
    "ExecuteTime": {
     "end_time": "2017-12-24T00:32:44.266745Z",
     "start_time": "2017-12-24T00:32:44.203915Z"
    }
   },
   "outputs": [],
   "source": [
    "browser.find_element_by_name('ctl00$ctl00$ContentPlaceHolder1$ContentPlaceHolderInnerPage$btnSubmit').send_keys(Keys.SPACE)"
   ]
  },
  {
   "cell_type": "markdown",
   "metadata": {},
   "source": [
    "---"
   ]
  },
  {
   "cell_type": "markdown",
   "metadata": {},
   "source": [
    "#### Iterate"
   ]
  },
  {
   "cell_type": "code",
   "execution_count": 26,
   "metadata": {
    "ExecuteTime": {
     "end_time": "2017-12-16T12:11:05.955638Z",
     "start_time": "2017-12-16T12:11:05.370278Z"
    }
   },
   "outputs": [],
   "source": [
    "import pandas as pd"
   ]
  },
  {
   "cell_type": "code",
   "execution_count": 27,
   "metadata": {
    "ExecuteTime": {
     "end_time": "2017-12-16T12:11:06.055364Z",
     "start_time": "2017-12-16T12:11:05.957465Z"
    }
   },
   "outputs": [],
   "source": [
    "from bs4 import BeautifulSoup as Soup"
   ]
  },
  {
   "cell_type": "code",
   "execution_count": 28,
   "metadata": {
    "ExecuteTime": {
     "end_time": "2017-12-16T12:11:06.152260Z",
     "start_time": "2017-12-16T12:11:06.147825Z"
    }
   },
   "outputs": [],
   "source": [
    "column_names = ['href', 'title', 'reg_num', 'reg_date', 'type', 'con_date', 'vol']"
   ]
  },
  {
   "cell_type": "code",
   "execution_count": 29,
   "metadata": {
    "ExecuteTime": {
     "end_time": "2017-12-16T12:11:06.655261Z",
     "start_time": "2017-12-16T12:11:06.651560Z"
    }
   },
   "outputs": [],
   "source": [
    "base_url = 'https://treaties.un.org'"
   ]
  },
  {
   "cell_type": "code",
   "execution_count": 30,
   "metadata": {
    "ExecuteTime": {
     "end_time": "2017-12-16T12:11:08.419404Z",
     "start_time": "2017-12-16T12:11:08.409957Z"
    }
   },
   "outputs": [],
   "source": [
    "def parse_page(tr_list):\n",
    "    #tr_list = [Soup(tr.text, 'lxml') for tr in tr_list]\n",
    "    tmp = list()\n",
    "    for tr in tr_list:\n",
    "        tmp.append(list())\n",
    "        for i, td in enumerate(tr.find_all('td')):\n",
    "            if i == 0:\n",
    "                tmp[-1].append(base_url+td.a['href'])\n",
    "            tmp[-1].append(td.text.strip())\n",
    "    return pd.DataFrame(tmp, columns=column_names)"
   ]
  },
  {
   "cell_type": "code",
   "execution_count": 31,
   "metadata": {
    "ExecuteTime": {
     "end_time": "2017-12-16T12:11:11.516648Z",
     "start_time": "2017-12-16T12:11:11.508474Z"
    }
   },
   "outputs": [],
   "source": [
    "df = pd.DataFrame(columns=column_names)"
   ]
  },
  {
   "cell_type": "code",
   "execution_count": 43,
   "metadata": {
    "ExecuteTime": {
     "end_time": "2017-12-16T09:13:29.993244Z",
     "start_time": "2017-12-16T09:13:29.944132Z"
    }
   },
   "outputs": [],
   "source": [
    "btn = browser.find_elements_by_tag_name('tbody')[3].find_element_by_tag_name('tr').find_elements_by_tag_name('td')[-1].find_element_by_tag_name('input')"
   ]
  },
  {
   "cell_type": "code",
   "execution_count": 44,
   "metadata": {
    "ExecuteTime": {
     "end_time": "2017-12-16T09:13:30.502376Z",
     "start_time": "2017-12-16T09:13:30.488980Z"
    }
   },
   "outputs": [
    {
     "name": "stdout",
     "output_type": "stream",
     "text": [
      "ctl00$ctl00$ContentPlaceHolder1$ContentPlaceHolderInnerPage$dgTreaty$ctl01$ctl14\n"
     ]
    }
   ],
   "source": [
    "print(btn.get_attribute('name'))\n",
    "btn.get_attribute('disabled')"
   ]
  },
  {
   "cell_type": "code",
   "execution_count": 47,
   "metadata": {
    "ExecuteTime": {
     "end_time": "2017-12-16T11:58:08.959581Z",
     "start_time": "2017-12-16T11:58:08.737364Z"
    }
   },
   "outputs": [
    {
     "ename": "FeatureNotFound",
     "evalue": "Couldn't find a tree builder with the features you requested: lxml. Do you need to install a parser library?",
     "output_type": "error",
     "traceback": [
      "\u001b[0;31m---------------------------------------------------------------------------\u001b[0m",
      "\u001b[0;31mFeatureNotFound\u001b[0m                           Traceback (most recent call last)",
      "\u001b[0;32m<ipython-input-47-9caee1e38b53>\u001b[0m in \u001b[0;36m<module>\u001b[0;34m()\u001b[0m\n\u001b[1;32m      1\u001b[0m \u001b[0;32mwhile\u001b[0m \u001b[0;32mTrue\u001b[0m\u001b[0;34m:\u001b[0m\u001b[0;34m\u001b[0m\u001b[0m\n\u001b[0;32m----> 2\u001b[0;31m     \u001b[0msource\u001b[0m \u001b[0;34m=\u001b[0m \u001b[0mSoup\u001b[0m\u001b[0;34m(\u001b[0m\u001b[0mbrowser\u001b[0m\u001b[0;34m.\u001b[0m\u001b[0mpage_source\u001b[0m\u001b[0;34m,\u001b[0m \u001b[0;34m'lxml'\u001b[0m\u001b[0;34m)\u001b[0m\u001b[0;34m\u001b[0m\u001b[0m\n\u001b[0m\u001b[1;32m      3\u001b[0m     \u001b[0mtr_list\u001b[0m \u001b[0;34m=\u001b[0m \u001b[0msource\u001b[0m\u001b[0;34m.\u001b[0m\u001b[0mfind_all\u001b[0m\u001b[0;34m(\u001b[0m\u001b[0;34m'tbody'\u001b[0m\u001b[0;34m)\u001b[0m\u001b[0;34m[\u001b[0m\u001b[0;36m3\u001b[0m\u001b[0;34m]\u001b[0m\u001b[0;34m.\u001b[0m\u001b[0mfind_all\u001b[0m\u001b[0;34m(\u001b[0m\u001b[0;34m'tr'\u001b[0m\u001b[0;34m)\u001b[0m\u001b[0;34m[\u001b[0m\u001b[0;36m3\u001b[0m\u001b[0;34m:\u001b[0m\u001b[0;34m-\u001b[0m\u001b[0;36m2\u001b[0m\u001b[0;34m]\u001b[0m\u001b[0;34m\u001b[0m\u001b[0m\n\u001b[1;32m      4\u001b[0m     \u001b[0mdf\u001b[0m \u001b[0;34m=\u001b[0m \u001b[0mdf\u001b[0m\u001b[0;34m.\u001b[0m\u001b[0mappend\u001b[0m\u001b[0;34m(\u001b[0m\u001b[0mparse_page\u001b[0m\u001b[0;34m(\u001b[0m\u001b[0mtr_list\u001b[0m\u001b[0;34m)\u001b[0m\u001b[0;34m,\u001b[0m \u001b[0mignore_index\u001b[0m\u001b[0;34m=\u001b[0m\u001b[0;32mTrue\u001b[0m\u001b[0;34m)\u001b[0m\u001b[0;34m\u001b[0m\u001b[0m\n\u001b[1;32m      5\u001b[0m     \u001b[0;32mif\u001b[0m \u001b[0mbtn\u001b[0m\u001b[0;34m.\u001b[0m\u001b[0mget_attribute\u001b[0m\u001b[0;34m(\u001b[0m\u001b[0;34m'disabled'\u001b[0m\u001b[0;34m)\u001b[0m \u001b[0;32mis\u001b[0m \u001b[0;32mnot\u001b[0m \u001b[0;32mNone\u001b[0m\u001b[0;34m:\u001b[0m\u001b[0;34m\u001b[0m\u001b[0m\n",
      "\u001b[0;32m~/.virtualenvs/Zuo-Py3/lib/python3.6/site-packages/bs4/__init__.py\u001b[0m in \u001b[0;36m__init__\u001b[0;34m(self, markup, features, builder, parse_only, from_encoding, exclude_encodings, **kwargs)\u001b[0m\n\u001b[1;32m    163\u001b[0m                     \u001b[0;34m\"Couldn't find a tree builder with the features you \"\u001b[0m\u001b[0;34m\u001b[0m\u001b[0m\n\u001b[1;32m    164\u001b[0m                     \u001b[0;34m\"requested: %s. Do you need to install a parser library?\"\u001b[0m\u001b[0;34m\u001b[0m\u001b[0m\n\u001b[0;32m--> 165\u001b[0;31m                     % \",\".join(features))\n\u001b[0m\u001b[1;32m    166\u001b[0m             \u001b[0mbuilder\u001b[0m \u001b[0;34m=\u001b[0m \u001b[0mbuilder_class\u001b[0m\u001b[0;34m(\u001b[0m\u001b[0;34m)\u001b[0m\u001b[0;34m\u001b[0m\u001b[0m\n\u001b[1;32m    167\u001b[0m             if not (original_features == builder.NAME or\n",
      "\u001b[0;31mFeatureNotFound\u001b[0m: Couldn't find a tree builder with the features you requested: lxml. Do you need to install a parser library?"
     ]
    }
   ],
   "source": [
    "while True:\n",
    "    source = Soup(browser.page_source, 'lxml')\n",
    "    tr_list = source.find_all('tbody')[3].find_all('tr')[3:-2]\n",
    "    df = df.append(parse_page(tr_list), ignore_index=True)\n",
    "    if btn.get_attribute('disabled') is not None:\n",
    "        break\n",
    "    time.sleep(pd.np.random.randint(5, 10))\n",
    "    tbody = browser.find_elements_by_tag_name('tbody')[3]\n",
    "    btn = tbody.find_element_by_tag_name('tr').find_elements_by_tag_name('td')[-1].find_element_by_tag_name('input')\n",
    "    btn.click()"
   ]
  },
  {
   "cell_type": "code",
   "execution_count": 266,
   "metadata": {
    "ExecuteTime": {
     "end_time": "2017-11-17T05:58:33.454579Z",
     "start_time": "2017-11-17T05:58:33.352919Z"
    },
    "scrolled": true
   },
   "outputs": [
    {
     "data": {
      "text/html": [
       "<div>\n",
       "<style>\n",
       "    .dataframe thead tr:only-child th {\n",
       "        text-align: right;\n",
       "    }\n",
       "\n",
       "    .dataframe thead th {\n",
       "        text-align: left;\n",
       "    }\n",
       "\n",
       "    .dataframe tbody tr th {\n",
       "        vertical-align: top;\n",
       "    }\n",
       "</style>\n",
       "<table border=\"1\" class=\"dataframe\">\n",
       "  <thead>\n",
       "    <tr style=\"text-align: right;\">\n",
       "      <th></th>\n",
       "      <th>href</th>\n",
       "      <th>title</th>\n",
       "      <th>reg_num</th>\n",
       "      <th>reg_date</th>\n",
       "      <th>type</th>\n",
       "      <th>con_date</th>\n",
       "      <th>vol</th>\n",
       "    </tr>\n",
       "  </thead>\n",
       "  <tbody>\n",
       "    <tr>\n",
       "      <th>0</th>\n",
       "      <td>/Pages/showDetails.aspx?objid=0800000280058127...</td>\n",
       "      <td>United Nations Convention on the Use of Electr...</td>\n",
       "      <td>I-50525</td>\n",
       "      <td>01/03/2013</td>\n",
       "      <td>Open Multilateral</td>\n",
       "      <td>23/11/2005</td>\n",
       "      <td>2898</td>\n",
       "    </tr>\n",
       "    <tr>\n",
       "      <th>1</th>\n",
       "      <td>/Pages/showDetails.aspx?objid=0800000280343dac...</td>\n",
       "      <td>Treaty on long-term good-neighbourliness, frie...</td>\n",
       "      <td>I-50518</td>\n",
       "      <td>01/02/2013</td>\n",
       "      <td>Open Multilateral</td>\n",
       "      <td>16/08/2007</td>\n",
       "      <td>2896</td>\n",
       "    </tr>\n",
       "    <tr>\n",
       "      <th>2</th>\n",
       "      <td>/Pages/showDetails.aspx?objid=080000028032d20f...</td>\n",
       "      <td>Treaty on cooperation among the member States ...</td>\n",
       "      <td>I-50095</td>\n",
       "      <td>03/09/2012</td>\n",
       "      <td>Open Multilateral</td>\n",
       "      <td>04/06/1999</td>\n",
       "      <td>2867</td>\n",
       "    </tr>\n",
       "    <tr>\n",
       "      <th>3</th>\n",
       "      <td>/Pages/showDetails.aspx?objid=080000028032d246...</td>\n",
       "      <td>Treaty among member States of the Commonwealth...</td>\n",
       "      <td>I-50100</td>\n",
       "      <td>03/09/2012</td>\n",
       "      <td>Open Multilateral</td>\n",
       "      <td>05/10/2007</td>\n",
       "      <td>2867</td>\n",
       "    </tr>\n",
       "    <tr>\n",
       "      <th>4</th>\n",
       "      <td>/Pages/showDetails.aspx?objid=08000002802e8dab...</td>\n",
       "      <td>The Istanbul Agreement on the Parliamentary As...</td>\n",
       "      <td>I-49912</td>\n",
       "      <td>02/07/2012</td>\n",
       "      <td>Open Multilateral</td>\n",
       "      <td>21/11/2008</td>\n",
       "      <td>2853</td>\n",
       "    </tr>\n",
       "    <tr>\n",
       "      <th>5</th>\n",
       "      <td>/Pages/showDetails.aspx?objid=08000002803296a6...</td>\n",
       "      <td>Southern Indian Ocean Fisheries Agreement</td>\n",
       "      <td>I-49647</td>\n",
       "      <td>21/06/2012</td>\n",
       "      <td>Open Multilateral</td>\n",
       "      <td>07/07/2006</td>\n",
       "      <td>2835</td>\n",
       "    </tr>\n",
       "    <tr>\n",
       "      <th>6</th>\n",
       "      <td>/Pages/showDetails.aspx?objid=08000002802da30a...</td>\n",
       "      <td>Nakhchivan Agreement on the establishment of t...</td>\n",
       "      <td>I-49924</td>\n",
       "      <td>02/07/2012</td>\n",
       "      <td>Open Multilateral</td>\n",
       "      <td>03/10/2009</td>\n",
       "      <td>2854</td>\n",
       "    </tr>\n",
       "    <tr>\n",
       "      <th>7</th>\n",
       "      <td>/Pages/showDetails.aspx?objid=080000028006822e...</td>\n",
       "      <td>Maritime Labour Convention, 2006</td>\n",
       "      <td>I-51299</td>\n",
       "      <td>20/08/2013</td>\n",
       "      <td>Open Multilateral</td>\n",
       "      <td>23/02/2006</td>\n",
       "      <td>2952</td>\n",
       "    </tr>\n",
       "    <tr>\n",
       "      <th>8</th>\n",
       "      <td>/Pages/showDetails.aspx?objid=080000028029a8a3...</td>\n",
       "      <td>International Cocoa Agreement, 2010</td>\n",
       "      <td>I-50115</td>\n",
       "      <td>01/10/2012</td>\n",
       "      <td>Open Multilateral</td>\n",
       "      <td>25/06/2010</td>\n",
       "      <td>2871</td>\n",
       "    </tr>\n",
       "    <tr>\n",
       "      <th>9</th>\n",
       "      <td>/Pages/showDetails.aspx?objid=080000028032bce0...</td>\n",
       "      <td>Free Trade Agreement between the United Mexica...</td>\n",
       "      <td>I-49661</td>\n",
       "      <td>12/06/2012</td>\n",
       "      <td>Open Multilateral</td>\n",
       "      <td>15/11/2003</td>\n",
       "      <td>2837</td>\n",
       "    </tr>\n",
       "    <tr>\n",
       "      <th>10</th>\n",
       "      <td>/Pages/showDetails.aspx?objid=0800000280058127...</td>\n",
       "      <td>United Nations Convention on the Use of Electr...</td>\n",
       "      <td>I-50525</td>\n",
       "      <td>01/03/2013</td>\n",
       "      <td>Open Multilateral</td>\n",
       "      <td>23/11/2005</td>\n",
       "      <td>2898</td>\n",
       "    </tr>\n",
       "    <tr>\n",
       "      <th>11</th>\n",
       "      <td>/Pages/showDetails.aspx?objid=0800000280343dac...</td>\n",
       "      <td>Treaty on long-term good-neighbourliness, frie...</td>\n",
       "      <td>I-50518</td>\n",
       "      <td>01/02/2013</td>\n",
       "      <td>Open Multilateral</td>\n",
       "      <td>16/08/2007</td>\n",
       "      <td>2896</td>\n",
       "    </tr>\n",
       "    <tr>\n",
       "      <th>12</th>\n",
       "      <td>/Pages/showDetails.aspx?objid=080000028032d20f...</td>\n",
       "      <td>Treaty on cooperation among the member States ...</td>\n",
       "      <td>I-50095</td>\n",
       "      <td>03/09/2012</td>\n",
       "      <td>Open Multilateral</td>\n",
       "      <td>04/06/1999</td>\n",
       "      <td>2867</td>\n",
       "    </tr>\n",
       "    <tr>\n",
       "      <th>13</th>\n",
       "      <td>/Pages/showDetails.aspx?objid=080000028032d246...</td>\n",
       "      <td>Treaty among member States of the Commonwealth...</td>\n",
       "      <td>I-50100</td>\n",
       "      <td>03/09/2012</td>\n",
       "      <td>Open Multilateral</td>\n",
       "      <td>05/10/2007</td>\n",
       "      <td>2867</td>\n",
       "    </tr>\n",
       "    <tr>\n",
       "      <th>14</th>\n",
       "      <td>/Pages/showDetails.aspx?objid=08000002802e8dab...</td>\n",
       "      <td>The Istanbul Agreement on the Parliamentary As...</td>\n",
       "      <td>I-49912</td>\n",
       "      <td>02/07/2012</td>\n",
       "      <td>Open Multilateral</td>\n",
       "      <td>21/11/2008</td>\n",
       "      <td>2853</td>\n",
       "    </tr>\n",
       "    <tr>\n",
       "      <th>15</th>\n",
       "      <td>/Pages/showDetails.aspx?objid=08000002803296a6...</td>\n",
       "      <td>Southern Indian Ocean Fisheries Agreement</td>\n",
       "      <td>I-49647</td>\n",
       "      <td>21/06/2012</td>\n",
       "      <td>Open Multilateral</td>\n",
       "      <td>07/07/2006</td>\n",
       "      <td>2835</td>\n",
       "    </tr>\n",
       "    <tr>\n",
       "      <th>16</th>\n",
       "      <td>/Pages/showDetails.aspx?objid=08000002802da30a...</td>\n",
       "      <td>Nakhchivan Agreement on the establishment of t...</td>\n",
       "      <td>I-49924</td>\n",
       "      <td>02/07/2012</td>\n",
       "      <td>Open Multilateral</td>\n",
       "      <td>03/10/2009</td>\n",
       "      <td>2854</td>\n",
       "    </tr>\n",
       "    <tr>\n",
       "      <th>17</th>\n",
       "      <td>/Pages/showDetails.aspx?objid=080000028006822e...</td>\n",
       "      <td>Maritime Labour Convention, 2006</td>\n",
       "      <td>I-51299</td>\n",
       "      <td>20/08/2013</td>\n",
       "      <td>Open Multilateral</td>\n",
       "      <td>23/02/2006</td>\n",
       "      <td>2952</td>\n",
       "    </tr>\n",
       "    <tr>\n",
       "      <th>18</th>\n",
       "      <td>/Pages/showDetails.aspx?objid=080000028029a8a3...</td>\n",
       "      <td>International Cocoa Agreement, 2010</td>\n",
       "      <td>I-50115</td>\n",
       "      <td>01/10/2012</td>\n",
       "      <td>Open Multilateral</td>\n",
       "      <td>25/06/2010</td>\n",
       "      <td>2871</td>\n",
       "    </tr>\n",
       "    <tr>\n",
       "      <th>19</th>\n",
       "      <td>/Pages/showDetails.aspx?objid=080000028032bce0...</td>\n",
       "      <td>Free Trade Agreement between the United Mexica...</td>\n",
       "      <td>I-49661</td>\n",
       "      <td>12/06/2012</td>\n",
       "      <td>Open Multilateral</td>\n",
       "      <td>15/11/2003</td>\n",
       "      <td>2837</td>\n",
       "    </tr>\n",
       "    <tr>\n",
       "      <th>20</th>\n",
       "      <td>/Pages/showDetails.aspx?objid=0800000280350c54...</td>\n",
       "      <td>Framework Agreement for International Collabor...</td>\n",
       "      <td>I-50254</td>\n",
       "      <td>14/12/2012</td>\n",
       "      <td>Open Multilateral</td>\n",
       "      <td>28/02/2005</td>\n",
       "      <td>2879</td>\n",
       "    </tr>\n",
       "    <tr>\n",
       "      <th>21</th>\n",
       "      <td>/Pages/showDetails.aspx?objid=080000028031a825...</td>\n",
       "      <td>Food Assistance Convention</td>\n",
       "      <td>I-50320</td>\n",
       "      <td>01/01/2013</td>\n",
       "      <td>Open Multilateral</td>\n",
       "      <td>25/04/2012</td>\n",
       "      <td>2884</td>\n",
       "    </tr>\n",
       "    <tr>\n",
       "      <th>22</th>\n",
       "      <td>/Pages/showDetails.aspx?objid=08000002804031c8...</td>\n",
       "      <td>Council of Europe Convention on preventing and...</td>\n",
       "      <td>I-52313</td>\n",
       "      <td>25/11/2014</td>\n",
       "      <td>Open Multilateral</td>\n",
       "      <td>11/05/2011</td>\n",
       "      <td>Not Available</td>\n",
       "    </tr>\n",
       "    <tr>\n",
       "      <th>23</th>\n",
       "      <td>/Pages/showDetails.aspx?objid=0800000280025697...</td>\n",
       "      <td>Convention on the Law of the Non-Navigational ...</td>\n",
       "      <td>I-52106</td>\n",
       "      <td>17/08/2014</td>\n",
       "      <td>Open Multilateral</td>\n",
       "      <td>21/05/1997</td>\n",
       "      <td>Not Available</td>\n",
       "    </tr>\n",
       "    <tr>\n",
       "      <th>24</th>\n",
       "      <td>/Pages/showDetails.aspx?objid=08000002803afa24...</td>\n",
       "      <td>Convention on the international recovery of ch...</td>\n",
       "      <td>I-51361</td>\n",
       "      <td>12/09/2013</td>\n",
       "      <td>Open Multilateral</td>\n",
       "      <td>23/11/2007</td>\n",
       "      <td>2955</td>\n",
       "    </tr>\n",
       "    <tr>\n",
       "      <th>25</th>\n",
       "      <td>/Pages/showDetails.aspx?objid=08000002803ad556...</td>\n",
       "      <td>Convention on the establishment of a security ...</td>\n",
       "      <td>I-51315</td>\n",
       "      <td>06/08/2013</td>\n",
       "      <td>Open Multilateral</td>\n",
       "      <td>20/12/1957</td>\n",
       "      <td>2952</td>\n",
       "    </tr>\n",
       "    <tr>\n",
       "      <th>26</th>\n",
       "      <td>/Pages/showDetails.aspx?objid=0800000280363a44...</td>\n",
       "      <td>Convention on the Conservation and Management ...</td>\n",
       "      <td>I-50553</td>\n",
       "      <td>21/03/2013</td>\n",
       "      <td>Open Multilateral</td>\n",
       "      <td>14/11/2009</td>\n",
       "      <td>2899</td>\n",
       "    </tr>\n",
       "    <tr>\n",
       "      <th>27</th>\n",
       "      <td>/Pages/showDetails.aspx?objid=0800000280310e41...</td>\n",
       "      <td>Convention of the Shanghai Cooperation Organiz...</td>\n",
       "      <td>I-49374</td>\n",
       "      <td>02/02/2012</td>\n",
       "      <td>Open Multilateral</td>\n",
       "      <td>16/06/2009</td>\n",
       "      <td>2815</td>\n",
       "    </tr>\n",
       "    <tr>\n",
       "      <th>28</th>\n",
       "      <td>/Pages/showDetails.aspx?objid=08000002803f8196...</td>\n",
       "      <td>Convention creating the Pan-African Agency of ...</td>\n",
       "      <td>I-52372</td>\n",
       "      <td>01/12/2014</td>\n",
       "      <td>Open Multilateral</td>\n",
       "      <td>17/06/2010</td>\n",
       "      <td>Not Available</td>\n",
       "    </tr>\n",
       "    <tr>\n",
       "      <th>29</th>\n",
       "      <td>/Pages/showDetails.aspx?objid=08000002803dc314...</td>\n",
       "      <td>Convention concerning the construction and ope...</td>\n",
       "      <td>I-51998</td>\n",
       "      <td>04/06/2014</td>\n",
       "      <td>Open Multilateral</td>\n",
       "      <td>04/10/2010</td>\n",
       "      <td>Not Available</td>\n",
       "    </tr>\n",
       "    <tr>\n",
       "      <th>30</th>\n",
       "      <td>/Pages/showDetails.aspx?objid=08000002802e6a04...</td>\n",
       "      <td>Convention (No. 189) concerning decent work fo...</td>\n",
       "      <td>I-51379</td>\n",
       "      <td>05/09/2013</td>\n",
       "      <td>Open Multilateral</td>\n",
       "      <td>16/06/2011</td>\n",
       "      <td>2955</td>\n",
       "    </tr>\n",
       "    <tr>\n",
       "      <th>31</th>\n",
       "      <td>/Pages/showDetails.aspx?objid=08000002803594e2...</td>\n",
       "      <td>Charter of the Shanghai  Cooperation Organization</td>\n",
       "      <td>I-50517</td>\n",
       "      <td>01/02/2013</td>\n",
       "      <td>Open Multilateral</td>\n",
       "      <td>07/06/2002</td>\n",
       "      <td>2896</td>\n",
       "    </tr>\n",
       "    <tr>\n",
       "      <th>32</th>\n",
       "      <td>/Pages/showDetails.aspx?objid=08000002803628c4...</td>\n",
       "      <td>Arms Trade Treaty</td>\n",
       "      <td>I-52373</td>\n",
       "      <td>24/12/2014</td>\n",
       "      <td>Open Multilateral</td>\n",
       "      <td>02/04/2013</td>\n",
       "      <td>Not Available</td>\n",
       "    </tr>\n",
       "    <tr>\n",
       "      <th>33</th>\n",
       "      <td>/Pages/showDetails.aspx?objid=0800000280363c19...</td>\n",
       "      <td>Agreement on the conservation of Polar Bears</td>\n",
       "      <td>I-50540</td>\n",
       "      <td>05/03/2013</td>\n",
       "      <td>Open Multilateral</td>\n",
       "      <td>15/11/1973</td>\n",
       "      <td>2898</td>\n",
       "    </tr>\n",
       "    <tr>\n",
       "      <th>34</th>\n",
       "      <td>/Pages/showDetails.aspx?objid=0800000280345455...</td>\n",
       "      <td>Agreement for the establishment of the King Ab...</td>\n",
       "      <td>I-50253</td>\n",
       "      <td>03/12/2012</td>\n",
       "      <td>Open Multilateral</td>\n",
       "      <td>13/10/2011</td>\n",
       "      <td>2879</td>\n",
       "    </tr>\n",
       "    <tr>\n",
       "      <th>35</th>\n",
       "      <td>/Pages/showDetails.aspx?objid=08000002803ccb6b...</td>\n",
       "      <td>Agreement establishing the Eurasian Developmen...</td>\n",
       "      <td>I-51782</td>\n",
       "      <td>18/03/2014</td>\n",
       "      <td>Open Multilateral</td>\n",
       "      <td>12/01/2006</td>\n",
       "      <td>Not Available</td>\n",
       "    </tr>\n",
       "    <tr>\n",
       "      <th>36</th>\n",
       "      <td>/Pages/showDetails.aspx?objid=08000002803aa186...</td>\n",
       "      <td>Agreement establishing the Caribbean Community...</td>\n",
       "      <td>I-51181</td>\n",
       "      <td>28/08/2013</td>\n",
       "      <td>Open Multilateral</td>\n",
       "      <td>04/02/2002</td>\n",
       "      <td>2946</td>\n",
       "    </tr>\n",
       "    <tr>\n",
       "      <th>37</th>\n",
       "      <td>/Pages/showDetails.aspx?objid=0800000280406e59...</td>\n",
       "      <td>Agreement between the Kingdom of Belgium and t...</td>\n",
       "      <td>I-52380</td>\n",
       "      <td>11/12/2014</td>\n",
       "      <td>Open Multilateral</td>\n",
       "      <td>26/06/2008</td>\n",
       "      <td>Not Available</td>\n",
       "    </tr>\n",
       "    <tr>\n",
       "      <th>38</th>\n",
       "      <td>/Pages/showDetails.aspx?objid=0800000280337f3b...</td>\n",
       "      <td>African Union Convention on preventing and com...</td>\n",
       "      <td>I-50008</td>\n",
       "      <td>17/08/2012</td>\n",
       "      <td>Open Multilateral</td>\n",
       "      <td>11/07/2003</td>\n",
       "      <td>2860</td>\n",
       "    </tr>\n",
       "    <tr>\n",
       "      <th>39</th>\n",
       "      <td>/Pages/showDetails.aspx?objid=08000002803f0260...</td>\n",
       "      <td>African Union Convention for the protection an...</td>\n",
       "      <td>I-52375</td>\n",
       "      <td>01/12/2014</td>\n",
       "      <td>Open Multilateral</td>\n",
       "      <td>23/10/2009</td>\n",
       "      <td>Not Available</td>\n",
       "    </tr>\n",
       "  </tbody>\n",
       "</table>\n",
       "</div>"
      ],
      "text/plain": [
       "                                                 href  \\\n",
       "0   /Pages/showDetails.aspx?objid=0800000280058127...   \n",
       "1   /Pages/showDetails.aspx?objid=0800000280343dac...   \n",
       "2   /Pages/showDetails.aspx?objid=080000028032d20f...   \n",
       "3   /Pages/showDetails.aspx?objid=080000028032d246...   \n",
       "4   /Pages/showDetails.aspx?objid=08000002802e8dab...   \n",
       "5   /Pages/showDetails.aspx?objid=08000002803296a6...   \n",
       "6   /Pages/showDetails.aspx?objid=08000002802da30a...   \n",
       "7   /Pages/showDetails.aspx?objid=080000028006822e...   \n",
       "8   /Pages/showDetails.aspx?objid=080000028029a8a3...   \n",
       "9   /Pages/showDetails.aspx?objid=080000028032bce0...   \n",
       "10  /Pages/showDetails.aspx?objid=0800000280058127...   \n",
       "11  /Pages/showDetails.aspx?objid=0800000280343dac...   \n",
       "12  /Pages/showDetails.aspx?objid=080000028032d20f...   \n",
       "13  /Pages/showDetails.aspx?objid=080000028032d246...   \n",
       "14  /Pages/showDetails.aspx?objid=08000002802e8dab...   \n",
       "15  /Pages/showDetails.aspx?objid=08000002803296a6...   \n",
       "16  /Pages/showDetails.aspx?objid=08000002802da30a...   \n",
       "17  /Pages/showDetails.aspx?objid=080000028006822e...   \n",
       "18  /Pages/showDetails.aspx?objid=080000028029a8a3...   \n",
       "19  /Pages/showDetails.aspx?objid=080000028032bce0...   \n",
       "20  /Pages/showDetails.aspx?objid=0800000280350c54...   \n",
       "21  /Pages/showDetails.aspx?objid=080000028031a825...   \n",
       "22  /Pages/showDetails.aspx?objid=08000002804031c8...   \n",
       "23  /Pages/showDetails.aspx?objid=0800000280025697...   \n",
       "24  /Pages/showDetails.aspx?objid=08000002803afa24...   \n",
       "25  /Pages/showDetails.aspx?objid=08000002803ad556...   \n",
       "26  /Pages/showDetails.aspx?objid=0800000280363a44...   \n",
       "27  /Pages/showDetails.aspx?objid=0800000280310e41...   \n",
       "28  /Pages/showDetails.aspx?objid=08000002803f8196...   \n",
       "29  /Pages/showDetails.aspx?objid=08000002803dc314...   \n",
       "30  /Pages/showDetails.aspx?objid=08000002802e6a04...   \n",
       "31  /Pages/showDetails.aspx?objid=08000002803594e2...   \n",
       "32  /Pages/showDetails.aspx?objid=08000002803628c4...   \n",
       "33  /Pages/showDetails.aspx?objid=0800000280363c19...   \n",
       "34  /Pages/showDetails.aspx?objid=0800000280345455...   \n",
       "35  /Pages/showDetails.aspx?objid=08000002803ccb6b...   \n",
       "36  /Pages/showDetails.aspx?objid=08000002803aa186...   \n",
       "37  /Pages/showDetails.aspx?objid=0800000280406e59...   \n",
       "38  /Pages/showDetails.aspx?objid=0800000280337f3b...   \n",
       "39  /Pages/showDetails.aspx?objid=08000002803f0260...   \n",
       "\n",
       "                                                title  reg_num    reg_date  \\\n",
       "0   United Nations Convention on the Use of Electr...  I-50525  01/03/2013   \n",
       "1   Treaty on long-term good-neighbourliness, frie...  I-50518  01/02/2013   \n",
       "2   Treaty on cooperation among the member States ...  I-50095  03/09/2012   \n",
       "3   Treaty among member States of the Commonwealth...  I-50100  03/09/2012   \n",
       "4   The Istanbul Agreement on the Parliamentary As...  I-49912  02/07/2012   \n",
       "5           Southern Indian Ocean Fisheries Agreement  I-49647  21/06/2012   \n",
       "6   Nakhchivan Agreement on the establishment of t...  I-49924  02/07/2012   \n",
       "7                    Maritime Labour Convention, 2006  I-51299  20/08/2013   \n",
       "8                 International Cocoa Agreement, 2010  I-50115  01/10/2012   \n",
       "9   Free Trade Agreement between the United Mexica...  I-49661  12/06/2012   \n",
       "10  United Nations Convention on the Use of Electr...  I-50525  01/03/2013   \n",
       "11  Treaty on long-term good-neighbourliness, frie...  I-50518  01/02/2013   \n",
       "12  Treaty on cooperation among the member States ...  I-50095  03/09/2012   \n",
       "13  Treaty among member States of the Commonwealth...  I-50100  03/09/2012   \n",
       "14  The Istanbul Agreement on the Parliamentary As...  I-49912  02/07/2012   \n",
       "15          Southern Indian Ocean Fisheries Agreement  I-49647  21/06/2012   \n",
       "16  Nakhchivan Agreement on the establishment of t...  I-49924  02/07/2012   \n",
       "17                   Maritime Labour Convention, 2006  I-51299  20/08/2013   \n",
       "18                International Cocoa Agreement, 2010  I-50115  01/10/2012   \n",
       "19  Free Trade Agreement between the United Mexica...  I-49661  12/06/2012   \n",
       "20  Framework Agreement for International Collabor...  I-50254  14/12/2012   \n",
       "21                         Food Assistance Convention  I-50320  01/01/2013   \n",
       "22  Council of Europe Convention on preventing and...  I-52313  25/11/2014   \n",
       "23  Convention on the Law of the Non-Navigational ...  I-52106  17/08/2014   \n",
       "24  Convention on the international recovery of ch...  I-51361  12/09/2013   \n",
       "25  Convention on the establishment of a security ...  I-51315  06/08/2013   \n",
       "26  Convention on the Conservation and Management ...  I-50553  21/03/2013   \n",
       "27  Convention of the Shanghai Cooperation Organiz...  I-49374  02/02/2012   \n",
       "28  Convention creating the Pan-African Agency of ...  I-52372  01/12/2014   \n",
       "29  Convention concerning the construction and ope...  I-51998  04/06/2014   \n",
       "30  Convention (No. 189) concerning decent work fo...  I-51379  05/09/2013   \n",
       "31  Charter of the Shanghai  Cooperation Organization  I-50517  01/02/2013   \n",
       "32                                  Arms Trade Treaty  I-52373  24/12/2014   \n",
       "33       Agreement on the conservation of Polar Bears  I-50540  05/03/2013   \n",
       "34  Agreement for the establishment of the King Ab...  I-50253  03/12/2012   \n",
       "35  Agreement establishing the Eurasian Developmen...  I-51782  18/03/2014   \n",
       "36  Agreement establishing the Caribbean Community...  I-51181  28/08/2013   \n",
       "37  Agreement between the Kingdom of Belgium and t...  I-52380  11/12/2014   \n",
       "38  African Union Convention on preventing and com...  I-50008  17/08/2012   \n",
       "39  African Union Convention for the protection an...  I-52375  01/12/2014   \n",
       "\n",
       "                 type    con_date            vol  \n",
       "0   Open Multilateral  23/11/2005           2898  \n",
       "1   Open Multilateral  16/08/2007           2896  \n",
       "2   Open Multilateral  04/06/1999           2867  \n",
       "3   Open Multilateral  05/10/2007           2867  \n",
       "4   Open Multilateral  21/11/2008           2853  \n",
       "5   Open Multilateral  07/07/2006           2835  \n",
       "6   Open Multilateral  03/10/2009           2854  \n",
       "7   Open Multilateral  23/02/2006           2952  \n",
       "8   Open Multilateral  25/06/2010           2871  \n",
       "9   Open Multilateral  15/11/2003           2837  \n",
       "10  Open Multilateral  23/11/2005           2898  \n",
       "11  Open Multilateral  16/08/2007           2896  \n",
       "12  Open Multilateral  04/06/1999           2867  \n",
       "13  Open Multilateral  05/10/2007           2867  \n",
       "14  Open Multilateral  21/11/2008           2853  \n",
       "15  Open Multilateral  07/07/2006           2835  \n",
       "16  Open Multilateral  03/10/2009           2854  \n",
       "17  Open Multilateral  23/02/2006           2952  \n",
       "18  Open Multilateral  25/06/2010           2871  \n",
       "19  Open Multilateral  15/11/2003           2837  \n",
       "20  Open Multilateral  28/02/2005           2879  \n",
       "21  Open Multilateral  25/04/2012           2884  \n",
       "22  Open Multilateral  11/05/2011  Not Available  \n",
       "23  Open Multilateral  21/05/1997  Not Available  \n",
       "24  Open Multilateral  23/11/2007           2955  \n",
       "25  Open Multilateral  20/12/1957           2952  \n",
       "26  Open Multilateral  14/11/2009           2899  \n",
       "27  Open Multilateral  16/06/2009           2815  \n",
       "28  Open Multilateral  17/06/2010  Not Available  \n",
       "29  Open Multilateral  04/10/2010  Not Available  \n",
       "30  Open Multilateral  16/06/2011           2955  \n",
       "31  Open Multilateral  07/06/2002           2896  \n",
       "32  Open Multilateral  02/04/2013  Not Available  \n",
       "33  Open Multilateral  15/11/1973           2898  \n",
       "34  Open Multilateral  13/10/2011           2879  \n",
       "35  Open Multilateral  12/01/2006  Not Available  \n",
       "36  Open Multilateral  04/02/2002           2946  \n",
       "37  Open Multilateral  26/06/2008  Not Available  \n",
       "38  Open Multilateral  11/07/2003           2860  \n",
       "39  Open Multilateral  23/10/2009  Not Available  "
      ]
     },
     "execution_count": 266,
     "metadata": {},
     "output_type": "execute_result"
    }
   ],
   "source": [
    "df.to_csv('./')"
   ]
  },
  {
   "cell_type": "markdown",
   "metadata": {},
   "source": [
    "---"
   ]
  },
  {
   "cell_type": "code",
   "execution_count": 34,
   "metadata": {
    "ExecuteTime": {
     "end_time": "2017-12-24T00:33:24.946539Z",
     "start_time": "2017-12-24T00:33:24.792406Z"
    }
   },
   "outputs": [],
   "source": [
    "browser.close()"
   ]
  },
  {
   "cell_type": "code",
   "execution_count": null,
   "metadata": {},
   "outputs": [],
   "source": []
  }
 ],
 "metadata": {
  "kernelspec": {
   "display_name": "Python 3",
   "language": "python",
   "name": "python3"
  },
  "language_info": {
   "codemirror_mode": {
    "name": "ipython",
    "version": 3
   },
   "file_extension": ".py",
   "mimetype": "text/x-python",
   "name": "python",
   "nbconvert_exporter": "python",
   "pygments_lexer": "ipython3",
   "version": "3.6.3"
  },
  "toc": {
   "nav_menu": {},
   "number_sections": true,
   "sideBar": true,
   "skip_h1_title": false,
   "toc_cell": false,
   "toc_position": {
    "height": "836px",
    "left": "0px",
    "right": "1468px",
    "top": "113px",
    "width": "212px"
   },
   "toc_section_display": "block",
   "toc_window_display": true
  }
 },
 "nbformat": 4,
 "nbformat_minor": 2
}
